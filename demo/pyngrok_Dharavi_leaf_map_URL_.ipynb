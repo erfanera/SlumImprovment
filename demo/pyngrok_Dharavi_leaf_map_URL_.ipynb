{
  "nbformat": 4,
  "nbformat_minor": 0,
  "metadata": {
    "colab": {
      "provenance": [],
      "authorship_tag": "ABX9TyMF/QAEXDvDHHf9Js3W349L",
      "include_colab_link": true
    },
    "kernelspec": {
      "name": "python3",
      "display_name": "Python 3"
    },
    "language_info": {
      "name": "python"
    }
  },
  "cells": [
    {
      "cell_type": "markdown",
      "metadata": {
        "id": "view-in-github",
        "colab_type": "text"
      },
      "source": [
        "<a href=\"https://colab.research.google.com/github/erfanera/SlumImprovment/blob/main/demo/pyngrok_Dharavi_leaf_map_URL_.ipynb\" target=\"_parent\"><img src=\"https://colab.research.google.com/assets/colab-badge.svg\" alt=\"Open In Colab\"/></a>"
      ]
    },
    {
      "cell_type": "code",
      "source": [
        "!pip install --upgrade pyngrok"
      ],
      "metadata": {
        "colab": {
          "base_uri": "https://localhost:8080/"
        },
        "id": "q0L52fF3jOdT",
        "outputId": "785fca4d-146f-4b32-c5ca-bc8980749a7d"
      },
      "execution_count": 39,
      "outputs": [
        {
          "output_type": "stream",
          "name": "stdout",
          "text": [
            "Requirement already satisfied: pyngrok in /usr/local/lib/python3.10/dist-packages (7.1.6)\n",
            "Requirement already satisfied: PyYAML>=5.1 in /usr/local/lib/python3.10/dist-packages (from pyngrok) (6.0.1)\n"
          ]
        }
      ]
    },
    {
      "cell_type": "code",
      "source": [
        "!pip install streamlit pyngrok geopandas leafmap"
      ],
      "metadata": {
        "id": "-0XLQZglhKJI"
      },
      "execution_count": null,
      "outputs": []
    },
    {
      "cell_type": "code",
      "source": [
        "from pyngrok import ngrok\n",
        "\n",
        "# 終止所有现存的 ngrok 会话\n",
        "ngrok.kill()\n"
      ],
      "metadata": {
        "id": "vUz5N5eaizLf"
      },
      "execution_count": 46,
      "outputs": []
    },
    {
      "cell_type": "code",
      "source": [
        "%%writefile app.py\n",
        "import streamlit as st\n",
        "import geopandas as gpd\n",
        "from shapely.geometry import Polygon\n",
        "import leafmap.foliumap as leafmap\n",
        "\n",
        "# 函数：根据用户输入的坐标创建多边形\n",
        "def create_polygon_from_bbox(min_point, max_point):\n",
        "    min_lon, min_lat = min_point\n",
        "    max_lon, max_lat = max_point\n",
        "    return [(min_lon, min_lat), (max_lon, min_lat), (max_lon, max_lat), (min_lon, max_lat)]\n",
        "\n",
        "# 函数：创建GeoDataFrame\n",
        "def create_geodataframe_from_bbox(min_point, max_point):\n",
        "    rectangle = Polygon(create_polygon_from_bbox(min_point, max_point))\n",
        "    gdf = gpd.GeoDataFrame([1], geometry=[rectangle], columns=['dummy'])\n",
        "    return gdf\n",
        "\n",
        "# Streamlit 界面设置\n",
        "st.title(\"Leafmap and Geopandas in Streamlit\")\n",
        "st.write(\"Enter the coordinates of the bounding box:\")\n",
        "\n",
        "# 用户输入经纬度坐标\n",
        "min_lon = st.number_input(\"Minimum Longitude\", value=72.8488)\n",
        "min_lat = st.number_input(\"Minimum Latitude\", value=19.0384)\n",
        "max_lon = st.number_input(\"Maximum Longitude\", value=72.8604)\n",
        "max_lat = st.number_input(\"Maximum Latitude\", value=19.0484)\n",
        "\n",
        "# 创建地理数据框\n",
        "pointA = (min_lon, min_lat)\n",
        "pointB = (max_lon, max_lat)\n",
        "gdf = create_geodataframe_from_bbox(pointA, pointB)\n",
        "\n",
        "# 显示地图\n",
        "m = leafmap.Map()\n",
        "m.add_basemap(\"SATELLITE\")\n",
        "m.add_gdf(gdf, layer_name=\"Bounding Box\")\n",
        "st.write(\"Here is the bounding box on the map:\")\n",
        "folium_map = m.to_html()\n",
        "st.components.v1.html(folium_map, height=700)\n"
      ],
      "metadata": {
        "colab": {
          "base_uri": "https://localhost:8080/"
        },
        "id": "gshCnjgKhQDb",
        "outputId": "4dc2e1b4-14b2-4977-9f52-e70e05ebcc7e"
      },
      "execution_count": 47,
      "outputs": [
        {
          "output_type": "stream",
          "name": "stdout",
          "text": [
            "Overwriting app.py\n"
          ]
        }
      ]
    },
    {
      "cell_type": "code",
      "source": [
        "from pyngrok import ngrok\n",
        "\n",
        "# 确保没有活动的 ngrok 会话\n",
        "ngrok.kill()\n",
        "\n",
        "# 启动 Streamlit 应用\n",
        "os.system(\"streamlit run app.py &\")\n",
        "\n",
        "# 建立 ngrok 连接，确保使用正确的参数\n",
        "public_url = ngrok.connect(addr='8501')\n",
        "print('Streamlit is running at URL:', public_url)\n"
      ],
      "metadata": {
        "colab": {
          "base_uri": "https://localhost:8080/"
        },
        "id": "Nnr1O-A8iUh1",
        "outputId": "73c615b6-f7ee-41a1-9cf8-75afa46572eb"
      },
      "execution_count": 48,
      "outputs": [
        {
          "output_type": "stream",
          "name": "stdout",
          "text": [
            "Streamlit is running at URL: NgrokTunnel: \"https://0f5c-35-221-22-48.ngrok-free.app\" -> \"http://localhost:8501\"\n"
          ]
        }
      ]
    }
  ]
}