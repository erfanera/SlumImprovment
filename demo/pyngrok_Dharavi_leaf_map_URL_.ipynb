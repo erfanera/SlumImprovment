{
  "nbformat": 4,
  "nbformat_minor": 0,
  "metadata": {
    "colab": {
      "provenance": [],
      "authorship_tag": "ABX9TyM57O0k0iDsqrhfzTovYr4G",
      "include_colab_link": true
    },
    "kernelspec": {
      "name": "python3",
      "display_name": "Python 3"
    },
    "language_info": {
      "name": "python"
    }
  },
  "cells": [
    {
      "cell_type": "markdown",
      "metadata": {
        "id": "view-in-github",
        "colab_type": "text"
      },
      "source": [
        "<a href=\"https://colab.research.google.com/github/erfanera/SlumImprovment/blob/main/demo/pyngrok_Dharavi_leaf_map_URL_.ipynb\" target=\"_parent\"><img src=\"https://colab.research.google.com/assets/colab-badge.svg\" alt=\"Open In Colab\"/></a>"
      ]
    },
    {
      "cell_type": "code",
      "source": [
        "!pip install --upgrade pyngrok"
      ],
      "metadata": {
        "id": "q0L52fF3jOdT"
      },
      "execution_count": null,
      "outputs": []
    },
    {
      "cell_type": "code",
      "source": [
        "pip install -U geemap"
      ],
      "metadata": {
        "id": "JMXGpGIvuae5"
      },
      "execution_count": null,
      "outputs": []
    },
    {
      "cell_type": "code",
      "source": [
        "!pip install streamlit pyngrok geopandas leafmap"
      ],
      "metadata": {
        "id": "-0XLQZglhKJI"
      },
      "execution_count": null,
      "outputs": []
    },
    {
      "cell_type": "code",
      "source": [
        "from pyngrok import ngrok\n",
        "\n",
        "# 終止所有现存的 ngrok 会话\n",
        "ngrok.kill()\n"
      ],
      "metadata": {
        "colab": {
          "base_uri": "https://localhost:8080/",
          "height": 17
        },
        "id": "vUz5N5eaizLf",
        "outputId": "1465da83-8343-4b88-a354-49886bc5c973"
      },
      "execution_count": 15,
      "outputs": [
        {
          "output_type": "display_data",
          "data": {
            "text/plain": [
              "<IPython.core.display.HTML object>"
            ],
            "text/html": [
              "\n",
              "            <style>\n",
              "                .geemap-dark {\n",
              "                    --jp-widgets-color: white;\n",
              "                    --jp-widgets-label-color: white;\n",
              "                    --jp-ui-font-color1: white;\n",
              "                    --jp-layout-color2: #454545;\n",
              "                    background-color: #383838;\n",
              "                }\n",
              "\n",
              "                .geemap-dark .jupyter-button {\n",
              "                    --jp-layout-color3: #383838;\n",
              "                }\n",
              "\n",
              "                .geemap-colab {\n",
              "                    background-color: var(--colab-primary-surface-color, white);\n",
              "                }\n",
              "\n",
              "                .geemap-colab .jupyter-button {\n",
              "                    --jp-layout-color3: var(--colab-primary-surface-color, white);\n",
              "                }\n",
              "            </style>\n",
              "            "
            ]
          },
          "metadata": {}
        }
      ]
    },
    {
      "cell_type": "code",
      "source": [
        "from pyngrok import ngrok\n",
        "from shapely.geometry import Polygon\n",
        "import streamlit as st\n",
        "import geopandas as gpd\n",
        "import leafmap.foliumap as leafmap\n",
        "from PIL import Image\n",
        "import numpy as np\n",
        "import os\n",
        "\n",
        "# 函数：根据用户输入的坐标创建多边形\n",
        "def create_polygon_from_bbox(min_point, max_point):\n",
        "    min_lon, min_lat = min_point\n",
        "    max_lon, max_lat = max_point\n",
        "    return [(min_lon, min_lat), (max_lon, min_lat), (max_lon, max_lat), (min_lon, max_lat)]\n",
        "\n",
        "# 函数：创建GeoDataFrame\n",
        "def create_geodataframe_from_bbox(min_point, max_point):\n",
        "    rectangle = Polygon(create_polygon_from_bbox(min_point, max_point))\n",
        "    gdf = gpd.GeoDataFrame([1], geometry=[rectangle], columns=['dummy'])\n",
        "    return gdf\n",
        "\n",
        "# 函数：计算地球上两点之间的距离\n",
        "def haversine(lon1, lat1, lon2, lat2):\n",
        "    \"\"\"\n",
        "    Calculate the great circle distance between two points\n",
        "    on the earth specified in decimal degrees.\n",
        "    \"\"\"\n",
        "    # Convert decimal degrees to radians\n",
        "    lon1, lat1, lon2, lat2 = map(np.radians, [lon1, lat1, lon2, lat2])\n",
        "\n",
        "    # Haversine formula\n",
        "    dlon = lon2 - lon1\n",
        "    dlat = lat2 - lat1\n",
        "    a = np.sin(dlat/2)**2 + np.cos(lat1) * np.cos(lat2) * np.sin(dlon/2)**2\n",
        "    c = 2 * np.arctan2(np.sqrt(a), np.sqrt(1-a))\n",
        "    r = 6371  # Radius of earth in kilometers. Use 3956 for miles\n",
        "    return c * r\n",
        "\n",
        "# 函数：计算边界框的尺寸\n",
        "def get_bbox_dimensions(min_lon, min_lat, max_lon, max_lat):\n",
        "    \"\"\"\n",
        "    Calculate the dimensions of a bounding box.\n",
        "\n",
        "    Parameters:\n",
        "    - min_lon (float): Minimum longitude of the bounding box.\n",
        "    - min_lat (float): Minimum latitude of the bounding box.\n",
        "    - max_lon (float): Maximum longitude of the bounding box.\n",
        "    - max_lat (float): Maximum latitude of the bounding box.\n",
        "\n",
        "    Returns:\n",
        "    - width (float): The width of the bounding box (longitude span).\n",
        "    - height (float): The height of the bounding box (latitude span).\n",
        "    \"\"\"\n",
        "    width = max_lon - min_lon\n",
        "    height = max_lat - min_lat\n",
        "    return width, height\n",
        "\n",
        "# 函数：将图片划分为网格\n",
        "def split_image_into_grid(image, grid_size):\n",
        "    img_array = np.array(image)\n",
        "    height, width = img_array.shape[:2]\n",
        "    cell_height = height // grid_size\n",
        "    cell_width = width // grid_size\n",
        "    grid_images = []\n",
        "    for i in range(grid_size):\n",
        "        for j in range(grid_size):\n",
        "            top = i * cell_height\n",
        "            bottom = (i + 1) * cell_height\n",
        "            left = j * cell_width\n",
        "            right = (j + 1) * cell_width\n",
        "            grid_cell = image.crop((left, top, right, bottom))\n",
        "            grid_images.append(grid_cell)\n",
        "    return grid_images\n",
        "\n",
        "# Streamlit app\n",
        "st.title(\"Custom Bounding Box and Grid Generator\")\n",
        "\n",
        "# 用户输入经纬度坐标\n",
        "min_lon = st.number_input(\"Enter minimum longitude:\", value=72.8488)\n",
        "min_lat = st.number_input(\"Enter minimum latitude:\", value=19.0384)\n",
        "max_lon = st.number_input(\"Enter maximum longitude:\", value=72.8604)\n",
        "max_lat = st.number_input(\"Enter maximum latitude:\", value=19.0484)\n",
        "\n",
        "width, height = get_bbox_dimensions(min_lon, min_lat, max_lon, max_lat)\n",
        "st.write(f\"Width (Longitude Span): {width} degrees\")\n",
        "st.write(f\"Height (Latitude Span): {height} degrees\")\n",
        "\n",
        "grid_size = st.number_input(\"Enter grid size (in meters):\", value=1000)\n",
        "\n",
        "# Create bounding box and map\n",
        "gdf = create_geodataframe_from_bbox((min_lon, min_lat), (max_lon, max_lat))\n",
        "m = leafmap.Map()\n",
        "m.add_basemap(\"SATELLITE\")\n",
        "m.add_gdf(gdf, layer_name=\"Bounding Box\")\n",
        "\n",
        "# 显示地图\n",
        "st.write(\"Here is the bounding box on the map:\")\n",
        "folium_map = m.to_html()\n",
        "st.write(folium_map, unsafe_allow_html=True)\n",
        "\n",
        "# 提取地图图像\n",
        "image = Image.open(\"/root/satellite.tif\")  # Use the provided image path or replace it with your own\n",
        "grid_images = split_image_into_grid(image, grid_size)\n",
        "\n",
        "# 显示划分好的小网格图像\n",
        "st.write(\"Here are the grid images:\")\n",
        "for i, grid_image in enumerate(grid_images):\n",
        "    st.image(grid_image, caption=f\"Grid {i}\")\n",
        "\n",
        "# 启动 Streamlit 应用\n",
        "os.system(\"streamlit run app.py &\")\n",
        "\n",
        "# 建立 ngrok 连接，确保使用正确的参数\n",
        "public_url = ngrok.connect(addr='8501')\n",
        "print('Streamlit is running at URL:', public_url)\n"
      ],
      "metadata": {
        "colab": {
          "base_uri": "https://localhost:8080/",
          "height": 54
        },
        "id": "-JlWH2FJp-FS",
        "outputId": "53db9c00-1e2c-4b1c-ae5f-f9b91b4097e8"
      },
      "execution_count": 16,
      "outputs": [
        {
          "output_type": "display_data",
          "data": {
            "text/plain": [
              "<IPython.core.display.HTML object>"
            ],
            "text/html": [
              "\n",
              "            <style>\n",
              "                .geemap-dark {\n",
              "                    --jp-widgets-color: white;\n",
              "                    --jp-widgets-label-color: white;\n",
              "                    --jp-ui-font-color1: white;\n",
              "                    --jp-layout-color2: #454545;\n",
              "                    background-color: #383838;\n",
              "                }\n",
              "\n",
              "                .geemap-dark .jupyter-button {\n",
              "                    --jp-layout-color3: #383838;\n",
              "                }\n",
              "\n",
              "                .geemap-colab {\n",
              "                    background-color: var(--colab-primary-surface-color, white);\n",
              "                }\n",
              "\n",
              "                .geemap-colab .jupyter-button {\n",
              "                    --jp-layout-color3: var(--colab-primary-surface-color, white);\n",
              "                }\n",
              "            </style>\n",
              "            "
            ]
          },
          "metadata": {}
        },
        {
          "output_type": "stream",
          "name": "stdout",
          "text": [
            "Streamlit is running at URL: NgrokTunnel: \"https://bd1f-35-221-22-48.ngrok-free.app\" -> \"http://localhost:8501\"\n"
          ]
        }
      ]
    },
    {
      "cell_type": "code",
      "source": [
        "from pyngrok import ngrok\n",
        "from shapely.geometry import Polygon\n",
        "import streamlit as st\n",
        "import geopandas as gpd\n",
        "import leafmap.foliumap as leafmap\n",
        "from PIL import Image\n",
        "import numpy as np\n",
        "import os\n",
        "\n",
        "# 函数：根据用户输入的坐标创建多边形\n",
        "def create_polygon_from_bbox(min_point, max_point):\n",
        "    min_lon, min_lat = min_point\n",
        "    max_lon, max_lat = max_point\n",
        "    return [(min_lon, min_lat), (max_lon, min_lat), (max_lon, max_lat), (min_lon, max_lat)]\n",
        "\n",
        "# 函数：创建GeoDataFrame\n",
        "def create_geodataframe_from_bbox(min_point, max_point):\n",
        "    rectangle = Polygon(create_polygon_from_bbox(min_point, max_point))\n",
        "    gdf = gpd.GeoDataFrame([1], geometry=[rectangle], columns=['dummy'])\n",
        "    return gdf\n",
        "\n",
        "# 函数：计算地球上两点之间的距离\n",
        "def haversine(lon1, lat1, lon2, lat2):\n",
        "    \"\"\"\n",
        "    Calculate the great circle distance between two points\n",
        "    on the earth specified in decimal degrees.\n",
        "    \"\"\"\n",
        "    # Convert decimal degrees to radians\n",
        "    lon1, lat1, lon2, lat2 = map(np.radians, [lon1, lat1, lon2, lat2])\n",
        "\n",
        "    # Haversine formula\n",
        "    dlon = lon2 - lon1\n",
        "    dlat = lat2 - lat1\n",
        "    a = np.sin(dlat/2)**2 + np.cos(lat1) * np.cos(lat2) * np.sin(dlon/2)**2\n",
        "    c = 2 * np.arctan2(np.sqrt(a), np.sqrt(1-a))\n",
        "    r = 6371  # Radius of earth in kilometers. Use 3956 for miles\n",
        "    return c * r\n",
        "\n",
        "# 函数：计算边界框的尺寸\n",
        "def get_bbox_dimensions(min_lon, min_lat, max_lon, max_lat):\n",
        "    \"\"\"\n",
        "    Calculate the dimensions of a bounding box.\n",
        "\n",
        "    Parameters:\n",
        "    - min_lon (float): Minimum longitude of the bounding box.\n",
        "    - min_lat (float): Minimum latitude of the bounding box.\n",
        "    - max_lon (float): Maximum longitude of the bounding box.\n",
        "    - max_lat (float): Maximum latitude of the bounding box.\n",
        "\n",
        "    Returns:\n",
        "    - width (float): The width of the bounding box (longitude span).\n",
        "    - height (float): The height of the bounding box (latitude span).\n",
        "    \"\"\"\n",
        "    width = max_lon - min_lon\n",
        "    height = max_lat - min_lat\n",
        "    return width, height\n",
        "\n",
        "# 函数：将图片划分为网格\n",
        "def split_image_into_grid(image, grid_size):\n",
        "    img_array = np.array(image)\n",
        "    height, width = img_array.shape[:2]\n",
        "    cell_height = height // grid_size\n",
        "    cell_width = width // grid_size\n",
        "    grid_images = []\n",
        "    for i in range(grid_size):\n",
        "        for j in range(grid_size):\n",
        "            top = i * cell_height\n",
        "            bottom = (i + 1) * cell_height\n",
        "            left = j * cell_width\n",
        "            right = (j + 1) * cell_width\n",
        "            grid_cell = image.crop((left, top, right, bottom))\n",
        "            grid_images.append(grid_cell)\n",
        "    return grid_images\n",
        "\n",
        "# Streamlit app\n",
        "st.title(\"Custom Bounding Box and Grid Generator\")\n",
        "\n",
        "# 用户输入经纬度坐标\n",
        "min_lon = st.number_input(\"Enter minimum longitude:\", value=72.8488)\n",
        "min_lat = st.number_input(\"Enter minimum latitude:\", value=19.0384)\n",
        "max_lon = st.number_input(\"Enter maximum longitude:\", value=72.8604)\n",
        "max_lat = st.number_input(\"Enter maximum latitude:\", value=19.0484)\n",
        "\n",
        "width, height = get_bbox_dimensions(min_lon, min_lat, max_lon, max_lat)\n",
        "st.write(f\"Width (Longitude Span): {width} degrees\")\n",
        "st.write(f\"Height (Latitude Span): {height} degrees\")\n",
        "\n",
        "grid_size = st.number_input(\"Enter grid size (in meters):\", value=1000)\n",
        "\n",
        "# Create bounding box and map\n",
        "gdf = create_geodataframe_from_bbox((min_lon, min_lat), (max_lon, max_lat))\n",
        "m = leafmap.Map()\n",
        "m.add_basemap(\"SATELLITE\")\n",
        "m.add_gdf(gdf, layer_name=\"Bounding Box\")\n",
        "\n",
        "# 显示地图\n",
        "st.write(\"Here is the bounding box on the map:\")\n",
        "folium_map = m.to_html()\n",
        "st.write(folium_map, unsafe_allow_html=True)\n",
        "\n",
        "# 提取地图图像\n",
        "image = Image.open(\"/root/satellite.tif\")  # Use the provided image path or replace it with your own\n",
        "grid_images = split_image_into_grid(image, grid_size)\n",
        "\n",
        "# 显示划分好的小网格图像\n",
        "st.write(\"Here are the grid images:\")\n",
        "for i, grid_image in enumerate(grid_images):\n",
        "    st.image(grid_image, caption=f\"Grid {i}\")\n",
        "\n",
        "# 启动 Streamlit 应用\n",
        "os.system(\"streamlit run app.py &\")\n",
        "\n",
        "# 建立 ngrok 连接，确保使用正确的参数\n",
        "public_url = ngrok.connect(addr='8501')\n",
        "print('Streamlit is running at URL:', public_url)\n"
      ],
      "metadata": {
        "colab": {
          "base_uri": "https://localhost:8080/"
        },
        "id": "gshCnjgKhQDb",
        "outputId": "4dc2e1b4-14b2-4977-9f52-e70e05ebcc7e"
      },
      "execution_count": 47,
      "outputs": [
        {
          "output_type": "stream",
          "name": "stdout",
          "text": [
            "Overwriting app.py\n"
          ]
        }
      ]
    },
    {
      "cell_type": "code",
      "source": [
        "from pyngrok import ngrok\n",
        "\n",
        "# 确保没有活动的 ngrok 会话\n",
        "ngrok.kill()\n",
        "\n",
        "# 启动 Streamlit 应用\n",
        "os.system(\"streamlit run app.py &\")\n",
        "\n",
        "# 建立 ngrok 连接，确保使用正确的参数\n",
        "public_url = ngrok.connect(addr='8501')\n",
        "print('Streamlit is running at URL:', public_url)\n"
      ],
      "metadata": {
        "colab": {
          "base_uri": "https://localhost:8080/",
          "height": 54
        },
        "id": "Nnr1O-A8iUh1",
        "outputId": "ba8204c3-1319-45a8-81a8-fac5250288bc"
      },
      "execution_count": 17,
      "outputs": [
        {
          "output_type": "display_data",
          "data": {
            "text/plain": [
              "<IPython.core.display.HTML object>"
            ],
            "text/html": [
              "\n",
              "            <style>\n",
              "                .geemap-dark {\n",
              "                    --jp-widgets-color: white;\n",
              "                    --jp-widgets-label-color: white;\n",
              "                    --jp-ui-font-color1: white;\n",
              "                    --jp-layout-color2: #454545;\n",
              "                    background-color: #383838;\n",
              "                }\n",
              "\n",
              "                .geemap-dark .jupyter-button {\n",
              "                    --jp-layout-color3: #383838;\n",
              "                }\n",
              "\n",
              "                .geemap-colab {\n",
              "                    background-color: var(--colab-primary-surface-color, white);\n",
              "                }\n",
              "\n",
              "                .geemap-colab .jupyter-button {\n",
              "                    --jp-layout-color3: var(--colab-primary-surface-color, white);\n",
              "                }\n",
              "            </style>\n",
              "            "
            ]
          },
          "metadata": {}
        },
        {
          "output_type": "stream",
          "name": "stdout",
          "text": [
            "Streamlit is running at URL: NgrokTunnel: \"https://6d97-35-221-22-48.ngrok-free.app\" -> \"http://localhost:8501\"\n"
          ]
        }
      ]
    }
  ]
}