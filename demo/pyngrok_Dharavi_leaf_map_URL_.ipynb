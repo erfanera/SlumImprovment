{
  "nbformat": 4,
  "nbformat_minor": 0,
  "metadata": {
    "colab": {
      "provenance": [],
      "authorship_tag": "ABX9TyPFveIoyyPPNzAQFgPLIlln",
      "include_colab_link": true
    },
    "kernelspec": {
      "name": "python3",
      "display_name": "Python 3"
    },
    "language_info": {
      "name": "python"
    }
  },
  "cells": [
    {
      "cell_type": "markdown",
      "metadata": {
        "id": "view-in-github",
        "colab_type": "text"
      },
      "source": [
        "<a href=\"https://colab.research.google.com/github/erfanera/SlumImprovment/blob/main/demo/pyngrok_Dharavi_leaf_map_URL_.ipynb\" target=\"_parent\"><img src=\"https://colab.research.google.com/assets/colab-badge.svg\" alt=\"Open In Colab\"/></a>"
      ]
    },
    {
      "cell_type": "code",
      "source": [
        "!pip install --upgrade pyngrok"
      ],
      "metadata": {
        "id": "q0L52fF3jOdT"
      },
      "execution_count": null,
      "outputs": []
    },
    {
      "cell_type": "code",
      "source": [
        "!pip install streamlit pyngrok geopandas leafmap"
      ],
      "metadata": {
        "id": "-0XLQZglhKJI"
      },
      "execution_count": null,
      "outputs": []
    },
    {
      "cell_type": "code",
      "source": [
        "from pyngrok import ngrok\n",
        "\n",
        "!streamlit run app.py &>/dev/null&\n",
        "\n",
        "public_url = ngrok.connect(addr='8501')\n",
        "print('Streamlit is running at URL:', public_url)\n",
        "\n"
      ],
      "metadata": {
        "colab": {
          "base_uri": "https://localhost:8080/"
        },
        "id": "uOJxuxzItir5",
        "outputId": "91cb12a0-e95d-4983-ee6e-f08d39242849"
      },
      "execution_count": 60,
      "outputs": [
        {
          "output_type": "stream",
          "name": "stdout",
          "text": [
            "Streamlit is running at URL: NgrokTunnel: \"https://d999-34-80-116-63.ngrok-free.app\" -> \"http://localhost:8501\"\n"
          ]
        }
      ]
    },
    {
      "cell_type": "code",
      "source": [
        "from pyngrok import ngrok\n",
        "\n",
        "ngrok.kill()"
      ],
      "metadata": {
        "id": "vUz5N5eaizLf"
      },
      "execution_count": 51,
      "outputs": []
    },
    {
      "cell_type": "code",
      "source": [
        "from pyngrok import ngrok\n",
        "import streamlit as st\n",
        "import leafmap.foliumap as leafmap\n",
        "import geopandas as gpd\n",
        "from shapely.geometry import Polygon\n",
        "from PIL import Image\n",
        "import numpy as np\n",
        "import os\n",
        "\n",
        "# Set authentication token\n",
        "ngrok.set_auth_token(\"2fugZh9AN73a2NEVIPHPnVwXbID_5C42VDP8LV4sQsCsQ6eto\")\n",
        "\n",
        "# Create GeoDataFrame\n",
        "def create_geodataframe_from_bbox(min_point, max_point):\n",
        "    rectangle = Polygon([min_point, (max_point[0], min_point[1]), max_point, (min_point[0], max_point[1]), min_point])\n",
        "    gdf = gpd.GeoDataFrame([1], geometry=[rectangle], columns=['dummy'])\n",
        "    return gdf\n",
        "\n",
        "# Split image into grid\n",
        "def split_image_into_grid(image_path, grid_size):\n",
        "    image = Image.open(image_path)\n",
        "    img_array = np.array(image)\n",
        "    height, width = img_array.shape[:2]\n",
        "    cell_height = height // grid_size\n",
        "    cell_width = width // grid_size\n",
        "    grid_images = []\n",
        "    for i in range(grid_size):\n",
        "        for j in range(grid_size):\n",
        "            top = i * cell_height\n",
        "            bottom = (i + 1) * cell_height\n",
        "            left = j * cell_width\n",
        "            right = (j + 1) * cell_width\n",
        "            grid_cell = image.crop((left, top, right, bottom))\n",
        "            grid_images.append(grid_cell)\n",
        "    return grid_images\n",
        "\n",
        "def main():\n",
        "    st.title(\"Custom Bounding Box and Grid Generator\")\n",
        "\n",
        "    # Map and drawing tool\n",
        "    m = leafmap.Map(draw_control=True, height=500)\n",
        "    m.add_basemap(\"OpenStreetMap\")\n",
        "    m.to_streamlit(height=600)\n",
        "\n",
        "    # User input for longitude and latitude coordinates\n",
        "    min_lon = st.number_input(\"Enter minimum longitude:\", value=72.8488)\n",
        "    min_lat = st.number_input(\"Enter minimum latitude:\", value=19.0384)\n",
        "    max_lon = st.number_input(\"Enter maximum longitude:\", value=72.8604)\n",
        "    max_lat = st.number_input(\"Enter maximum latitude:\", value=19.0484)\n",
        "\n",
        "    # Create bounding box and display map\n",
        "    gdf = create_geodataframe_from_bbox((min_lon, min_lat), (max_lon, max_lat))\n",
        "    m.add_gdf(gdf, layer_name=\"Bounding Box\")\n",
        "\n",
        "    # Extract image\n",
        "    image_path = st.text_input(\"Enter path to image file:\", \"/root/satellite.tif\")\n",
        "    grid_size = st.number_input(\"Enter grid size (number of grids):\", value=10)\n",
        "    if st.button('Process Image'):\n",
        "        grid_images = split_image_into_grid(image_path, grid_size)\n",
        "        st.write(\"Here are the grid images:\")\n",
        "        for i, grid_image in enumerate(grid_images):\n",
        "            st.image(grid_image, caption=f\"Grid {i}\")\n",
        "\n",
        "    # Establish ngrok connection\n",
        "    public_url = ngrok.connect(addr='8501')\n",
        "    st.write('Streamlit is running at URL:', public_url)\n",
        "\n",
        "if __name__ == \"__main__\":\n",
        "    main()\n"
      ],
      "metadata": {
        "id": "gshCnjgKhQDb"
      },
      "execution_count": 52,
      "outputs": []
    },
    {
      "cell_type": "code",
      "source": [
        "import os\n",
        "from pyngrok import ngrok\n",
        "\n",
        "# Start the Streamlit application\n",
        "os.system(\"streamlit run app.py &\")\n",
        "\n",
        "# Establish ngrok connection with the correct parameters\n",
        "public_url = ngrok.connect(addr='8501')\n",
        "print('Streamlit is running at URL:', public_url)\n"
      ],
      "metadata": {
        "colab": {
          "base_uri": "https://localhost:8080/"
        },
        "id": "Nnr1O-A8iUh1",
        "outputId": "7797ebc9-c7c3-4d89-822b-a704dd753c50"
      },
      "execution_count": 53,
      "outputs": [
        {
          "output_type": "stream",
          "name": "stdout",
          "text": [
            "Streamlit is running at URL: NgrokTunnel: \"https://a091-34-80-116-63.ngrok-free.app\" -> \"http://localhost:8501\"\n"
          ]
        }
      ]
    }
  ]
}