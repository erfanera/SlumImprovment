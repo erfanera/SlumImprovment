{
  "nbformat": 4,
  "nbformat_minor": 0,
  "metadata": {
    "colab": {
      "provenance": [],
      "authorship_tag": "ABX9TyP3JjqQFkAJSAlbYZNiey4I",
      "include_colab_link": true
    },
    "kernelspec": {
      "name": "python3",
      "display_name": "Python 3"
    },
    "language_info": {
      "name": "python"
    }
  },
  "cells": [
    {
      "cell_type": "markdown",
      "metadata": {
        "id": "view-in-github",
        "colab_type": "text"
      },
      "source": [
        "<a href=\"https://colab.research.google.com/github/erfanera/SlumImprovment/blob/main/pyngrok_Dharavi_leaf_map_URL(WIP)_.ipynb\" target=\"_parent\"><img src=\"https://colab.research.google.com/assets/colab-badge.svg\" alt=\"Open In Colab\"/></a>"
      ]
    },
    {
      "cell_type": "code",
      "source": [
        "!pip install --upgrade pyngrok"
      ],
      "metadata": {
        "id": "q0L52fF3jOdT"
      },
      "execution_count": null,
      "outputs": []
    },
    {
      "cell_type": "code",
      "source": [
        "pip install -U geemap"
      ],
      "metadata": {
        "id": "JMXGpGIvuae5"
      },
      "execution_count": null,
      "outputs": []
    },
    {
      "cell_type": "code",
      "source": [
        "!pip install streamlit pyngrok geopandas leafmap"
      ],
      "metadata": {
        "id": "-0XLQZglhKJI"
      },
      "execution_count": null,
      "outputs": []
    },
    {
      "cell_type": "code",
      "source": [
        "from pyngrok import ngrok\n",
        "\n",
        "# 終止所有现存的 ngrok 会话\n",
        "ngrok.kill()\n"
      ],
      "metadata": {
        "id": "vUz5N5eaizLf"
      },
      "execution_count": 4,
      "outputs": []
    },
    {
      "cell_type": "code",
      "source": [
        "from pyngrok import ngrok\n",
        "import streamlit as st\n",
        "import geopandas as gpd\n",
        "import leafmap.foliumap as leafmap\n",
        "from PIL import Image\n",
        "import numpy as np\n",
        "import os\n",
        "from math import radians, sin, cos, sqrt, atan2\n",
        "import ee\n",
        "import geemap as emap\n",
        "\n",
        "# Authenticate and initialize Earth Engine\n",
        "ee.Authenticate()\n",
        "ee.Initialize(project='your-project-id')\n",
        "\n",
        "# 函数：根据用户输入的坐标创建多边形\n",
        "def create_polygon_from_bbox(min_point, max_point):\n",
        "    min_lon, min_lat = min_point\n",
        "    max_lon, max_lat = max_point\n",
        "    return [(min_lon, min_lat), (max_lon, min_lat), (max_lon, max_lat), (min_lon, max_lat)]\n",
        "\n",
        "# 函数：创建GeoDataFrame\n",
        "def create_geodataframe_from_bbox(min_point, max_point):\n",
        "    rectangle = Polygon(create_polygon_from_bbox(min_point, max_point))\n",
        "    gdf = gpd.GeoDataFrame([1], geometry=[rectangle], columns=['dummy'])\n",
        "    return gdf\n",
        "\n",
        "# 函数：计算地球上两点之间的距离\n",
        "def haversine(lon1, lat1, lon2, lat2):\n",
        "    \"\"\"\n",
        "    Calculate the great circle distance between two points\n",
        "    on the earth specified in decimal degrees.\n",
        "    \"\"\"\n",
        "    # Convert decimal degrees to radians\n",
        "    lon1, lat1, lon2, lat2 = map(radians, [lon1, lat1, lon2, lat2])\n",
        "\n",
        "    # Haversine formula\n",
        "    dlon = lon2 - lon1\n",
        "    dlat = lat2 - lat1\n",
        "    a = sin(dlat/2)**2 + cos(lat1) * cos(lat2) * sin(dlon/2)**2\n",
        "    c = 2 * atan2(sqrt(a), sqrt(1-a))\n",
        "    r = 6371  # Radius of earth in kilometers. Use 3956 for miles\n",
        "    return c * r\n",
        "\n",
        "# 函数：计算边界框的尺寸\n",
        "def get_bbox_dimensions(min_lon, min_lat, max_lon, max_lat):\n",
        "    \"\"\"\n",
        "    Calculate the dimensions of a bounding box.\n",
        "\n",
        "    Parameters:\n",
        "    - min_lon (float): Minimum longitude of the bounding box.\n",
        "    - min_lat (float): Minimum latitude of the bounding box.\n",
        "    - max_lon (float): Maximum longitude of the bounding box.\n",
        "    - max_lat (float): Maximum latitude of the bounding box.\n",
        "\n",
        "    Returns:\n",
        "    - width (float): The width of the bounding box (longitude span).\n",
        "    - height (float): The height of the bounding box (latitude span).\n",
        "    \"\"\"\n",
        "    width = max_lon - min_lon\n",
        "    height = max_lat - min_lat\n",
        "    return width, height\n",
        "\n",
        "# 函数：计算边界框尺寸（米）\n",
        "def get_bbox_dimensions_in_meters(min_lon, min_lat, max_lon, max_lat):\n",
        "    \"\"\"\n",
        "    Calculate the dimensions of a bounding box in meters.\n",
        "\n",
        "    Parameters:\n",
        "    - min_lon (float): Minimum longitude of the bounding box.\n",
        "    - min_lat (float): Minimum latitude of the bounding box.\n",
        "    - max_lon (float): Maximum longitude of the bounding box.\n",
        "    - max_lat (float): Maximum latitude of the bounding box.\n",
        "\n",
        "    Returns:\n",
        "    - width (float): The width of the bounding box in meters (longitude span).\n",
        "    - height (float): The height of the bounding box in meters (latitude span).\n",
        "    \"\"\"\n",
        "    avg_lat = (min_lat + max_lat) / 2\n",
        "    width = haversine(min_lon, avg_lat, max_lon, avg_lat)\n",
        "    avg_lon = (min_lon + max_lon) / 2\n",
        "    height = haversine(avg_lon, min_lat, avg_lon, max_lat)\n",
        "    return width, height\n",
        "\n",
        "# 函数：将图片划分为网格\n",
        "def divide_picture_into_grids(width, height, grid_size=1000):\n",
        "    \"\"\"\n",
        "    Divide a picture into grids of one kilometer (1 km) each.\n",
        "\n",
        "    Parameters:\n",
        "    - width (float): Width of the picture in meters.\n",
        "    - height (float): Height of the picture in meters.\n",
        "    - grid_size (float): Size of each grid cell in meters (default is 1000 meters).\n",
        "\n",
        "    Returns:\n",
        "    - list of tuples: Coordinates of the grid cells, each representing a one-kilometer square.\n",
        "    \"\"\"\n",
        "    num_horizontal_grids = int(width / grid_size)\n",
        "    num_vertical_grids = int(height / grid_size)\n",
        "    grid_coordinates = []\n",
        "    for i in range(num_horizontal_grids):\n",
        "        for j in range(num_vertical_grids):\n",
        "            grid_x = i * grid_size\n",
        "            grid_y = j * grid_size\n",
        "            grid_coordinates.append((grid_x, grid_y))\n",
        "    return grid_coordinates\n",
        "\n",
        "# 函数：将图片划分为网格\n",
        "def split_image_into_grid(image, grid_size):\n",
        "    img_array = np.array(image)\n",
        "    height, width = img_array.shape[:2]\n",
        "    cell_height = height // grid_size\n",
        "    cell_width = width // grid_size\n",
        "    grid_images = []\n",
        "    for i in range(grid_size):\n",
        "        for j in range(grid_size):\n",
        "            top = i * cell_height\n",
        "            bottom = (i + 1) * cell_height\n",
        "            left = j * cell_width\n",
        "            right = (j + 1) * cell_width\n",
        "            grid_cell = image.crop((left, top, right, bottom))\n",
        "            grid_images.append(grid_cell)\n",
        "    return grid_images\n",
        "\n",
        "# Streamlit app\n",
        "st.title(\"Custom Bounding Box and Grid Generator\")\n",
        "\n",
        "# 用户输入经纬度坐标\n",
        "min_lon = st.number_input(\"Enter minimum longitude:\", value=72.8488)\n",
        "min_lat = st.number_input(\"Enter minimum latitude:\", value=19.0384)\n",
        "max_lon = st.number_input(\"Enter maximum longitude:\", value=72.8604)\n",
        "max_lat = st.number_input(\"Enter maximum latitude:\", value=19.0484)\n",
        "\n",
        "width, height = get_bbox_dimensions_in_meters(min_lon, min_lat, max_lon, max_lat)\n",
        "st.write(f\"Width (Longitude Span): {width} meters\")\n",
        "st.write(f\"Height (Latitude Span): {height} meters\")\n",
        "\n",
        "grid_size = st.number_input(\"Enter grid size (in meters):\", value=1000)\n",
        "\n",
        "# Create bounding box and map\n",
        "gdf = create_geodataframe_from_bbox((min_lon, min_lat), (max_lon, max_lat))\n",
        "m = leafmap.Map()\n",
        "m.add_basemap(\"SATELLITE\")\n",
        "m.add_gdf(gdf, layer_name=\"Bounding Box\")\n",
        "\n",
        "# 显示地图\n",
        "st.write(\"Here is the bounding box on the map:\")\n",
        "folium_map = m.to_html()\n",
        "st.write(folium_map, unsafe_allow_html=True)\n",
        "\n",
        "# 提取地图图像\n",
        "bbox = [min_lon, min_lat, max_lon, max_lat]\n",
        "ee_bbox = ee.Geometry.Rectangle(bbox)\n",
        "image = ee.ImageCollection('LANDSAT/LC08/C01/T1_TOA').filterBounds(ee_bbox).first().clip(ee_bbox)\n",
        "image = image.visualize(bands=['B5', 'B4', 'B3'], min=0, max=0.5)\n",
        "\n",
        "# 获取地图图像\n",
        "map_image = emap.ee_to_numpy(image)\n",
        "\n",
        "# 将图像转换为PIL图像对象\n",
        "pil_image = Image.fromarray(np.uint8(map_image))\n",
        "\n",
        "# 划分图片网格\n",
        "grid_images = split_image_into_grid(pil_image, grid_size)\n",
        "\n",
        "# 启动 Streamlit 应用\n",
        "public_url = ngrok.connect(port='8501')\n",
        "print('Streamlit is running at URL:', public_url)\n"
      ],
      "metadata": {
        "colab": {
          "base_uri": "https://localhost:8080/",
          "height": 567
        },
        "id": "-JlWH2FJp-FS",
        "outputId": "2e2fc053-e4fc-4c20-cbc5-d4a75b5316f0"
      },
      "execution_count": 7,
      "outputs": [
        {
          "output_type": "display_data",
          "data": {
            "text/plain": [
              "<IPython.core.display.HTML object>"
            ],
            "text/html": [
              "\n",
              "            <style>\n",
              "                .geemap-dark {\n",
              "                    --jp-widgets-color: white;\n",
              "                    --jp-widgets-label-color: white;\n",
              "                    --jp-ui-font-color1: white;\n",
              "                    --jp-layout-color2: #454545;\n",
              "                    background-color: #383838;\n",
              "                }\n",
              "\n",
              "                .geemap-dark .jupyter-button {\n",
              "                    --jp-layout-color3: #383838;\n",
              "                }\n",
              "\n",
              "                .geemap-colab {\n",
              "                    background-color: var(--colab-primary-surface-color, white);\n",
              "                }\n",
              "\n",
              "                .geemap-colab .jupyter-button {\n",
              "                    --jp-layout-color3: var(--colab-primary-surface-color, white);\n",
              "                }\n",
              "            </style>\n",
              "            "
            ]
          },
          "metadata": {}
        },
        {
          "output_type": "stream",
          "name": "stderr",
          "text": [
            "WARNING:googleapiclient.http:Encountered 403 Forbidden with reason \"PERMISSION_DENIED\"\n"
          ]
        },
        {
          "output_type": "error",
          "ename": "EEException",
          "evalue": "ee.Initialize: no project found. Call with project= or see http://goo.gle/ee-auth.",
          "traceback": [
            "\u001b[0;31m---------------------------------------------------------------------------\u001b[0m",
            "\u001b[0;31mEEException\u001b[0m                               Traceback (most recent call last)",
            "\u001b[0;32m<ipython-input-7-aa615025dd45>\u001b[0m in \u001b[0;36m<cell line: 14>\u001b[0;34m()\u001b[0m\n\u001b[1;32m     12\u001b[0m \u001b[0;31m# Authenticate and initialize Earth Engine\u001b[0m\u001b[0;34m\u001b[0m\u001b[0;34m\u001b[0m\u001b[0m\n\u001b[1;32m     13\u001b[0m \u001b[0mee\u001b[0m\u001b[0;34m.\u001b[0m\u001b[0mAuthenticate\u001b[0m\u001b[0;34m(\u001b[0m\u001b[0;34m)\u001b[0m\u001b[0;34m\u001b[0m\u001b[0;34m\u001b[0m\u001b[0m\n\u001b[0;32m---> 14\u001b[0;31m \u001b[0mee\u001b[0m\u001b[0;34m.\u001b[0m\u001b[0mInitialize\u001b[0m\u001b[0;34m(\u001b[0m\u001b[0;34m)\u001b[0m\u001b[0;34m\u001b[0m\u001b[0;34m\u001b[0m\u001b[0m\n\u001b[0m\u001b[1;32m     15\u001b[0m \u001b[0;34m\u001b[0m\u001b[0m\n\u001b[1;32m     16\u001b[0m \u001b[0;31m# 函数：根据用户输入的坐标创建多边形\u001b[0m\u001b[0;34m\u001b[0m\u001b[0;34m\u001b[0m\u001b[0m\n",
            "\u001b[0;32m/usr/local/lib/python3.10/dist-packages/ee/_utils.py\u001b[0m in \u001b[0;36mwrapper\u001b[0;34m(*args, **kwargs)\u001b[0m\n\u001b[1;32m     36\u001b[0m           \u001b[0;32mif\u001b[0m \u001b[0mnew_key\u001b[0m \u001b[0;32mnot\u001b[0m \u001b[0;32min\u001b[0m \u001b[0mkwargs\u001b[0m\u001b[0;34m:\u001b[0m\u001b[0;34m\u001b[0m\u001b[0;34m\u001b[0m\u001b[0m\n\u001b[1;32m     37\u001b[0m             \u001b[0mkwargs\u001b[0m\u001b[0;34m[\u001b[0m\u001b[0mnew_key\u001b[0m\u001b[0;34m]\u001b[0m \u001b[0;34m=\u001b[0m \u001b[0mold_key_val\u001b[0m\u001b[0;34m\u001b[0m\u001b[0;34m\u001b[0m\u001b[0m\n\u001b[0;32m---> 38\u001b[0;31m       \u001b[0;32mreturn\u001b[0m \u001b[0mfunc\u001b[0m\u001b[0;34m(\u001b[0m\u001b[0;34m*\u001b[0m\u001b[0margs\u001b[0m\u001b[0;34m,\u001b[0m \u001b[0;34m**\u001b[0m\u001b[0mkwargs\u001b[0m\u001b[0;34m)\u001b[0m\u001b[0;34m\u001b[0m\u001b[0;34m\u001b[0m\u001b[0m\n\u001b[0m\u001b[1;32m     39\u001b[0m \u001b[0;34m\u001b[0m\u001b[0m\n\u001b[1;32m     40\u001b[0m     \u001b[0;32mreturn\u001b[0m \u001b[0mwrapper\u001b[0m\u001b[0;34m\u001b[0m\u001b[0;34m\u001b[0m\u001b[0m\n",
            "\u001b[0;32m/usr/local/lib/python3.10/dist-packages/ee/__init__.py\u001b[0m in \u001b[0;36mInitialize\u001b[0;34m(credentials, url, cloud_api_key, http_transport, project)\u001b[0m\n\u001b[1;32m    178\u001b[0m     \u001b[0mmatches\u001b[0m \u001b[0;34m=\u001b[0m \u001b[0mre\u001b[0m\u001b[0;34m.\u001b[0m\u001b[0msearch\u001b[0m\u001b[0;34m(\u001b[0m\u001b[0mapi_err\u001b[0m\u001b[0;34m,\u001b[0m \u001b[0mstr\u001b[0m\u001b[0;34m(\u001b[0m\u001b[0me\u001b[0m\u001b[0;34m)\u001b[0m\u001b[0;34m)\u001b[0m\u001b[0;34m\u001b[0m\u001b[0;34m\u001b[0m\u001b[0m\n\u001b[1;32m    179\u001b[0m     \u001b[0;32mif\u001b[0m \u001b[0;34m(\u001b[0m\u001b[0madc_err\u001b[0m \u001b[0;32min\u001b[0m \u001b[0mstr\u001b[0m\u001b[0;34m(\u001b[0m\u001b[0me\u001b[0m\u001b[0;34m)\u001b[0m\u001b[0;34m)\u001b[0m \u001b[0;32mor\u001b[0m \u001b[0;34m(\u001b[0m\u001b[0mmatches\u001b[0m \u001b[0;32mand\u001b[0m \u001b[0moauth\u001b[0m\u001b[0;34m.\u001b[0m\u001b[0mis_sdk_project\u001b[0m\u001b[0;34m(\u001b[0m\u001b[0mmatches\u001b[0m\u001b[0;34m[\u001b[0m\u001b[0;36m1\u001b[0m\u001b[0;34m]\u001b[0m\u001b[0;34m)\u001b[0m\u001b[0;34m)\u001b[0m\u001b[0;34m:\u001b[0m\u001b[0;34m\u001b[0m\u001b[0;34m\u001b[0m\u001b[0m\n\u001b[0;32m--> 180\u001b[0;31m       \u001b[0;32mraise\u001b[0m \u001b[0mEEException\u001b[0m\u001b[0;34m(\u001b[0m\u001b[0mNO_PROJECT_EXCEPTION\u001b[0m\u001b[0;34m)\u001b[0m \u001b[0;32mfrom\u001b[0m \u001b[0;32mNone\u001b[0m\u001b[0;34m\u001b[0m\u001b[0;34m\u001b[0m\u001b[0m\n\u001b[0m\u001b[1;32m    181\u001b[0m     \u001b[0;32mraise\u001b[0m \u001b[0me\u001b[0m\u001b[0;34m\u001b[0m\u001b[0;34m\u001b[0m\u001b[0m\n\u001b[1;32m    182\u001b[0m   \u001b[0mArray\u001b[0m\u001b[0;34m.\u001b[0m\u001b[0minitialize\u001b[0m\u001b[0;34m(\u001b[0m\u001b[0;34m)\u001b[0m\u001b[0;34m\u001b[0m\u001b[0;34m\u001b[0m\u001b[0m\n",
            "\u001b[0;31mEEException\u001b[0m: ee.Initialize: no project found. Call with project= or see http://goo.gle/ee-auth."
          ]
        }
      ]
    },
    {
      "cell_type": "code",
      "source": [
        "%%writefile app.py\n",
        "import streamlit as st\n",
        "import geopandas as gpd\n",
        "from shapely.geometry import Polygon\n",
        "import leafmap.foliumap as leafmap\n",
        "\n",
        "# 函数：根据用户输入的坐标创建多边形\n",
        "def create_polygon_from_bbox(min_point, max_point):\n",
        "    min_lon, min_lat = min_point\n",
        "    max_lon, max_lat = max_point\n",
        "    return [(min_lon, min_lat), (max_lon, min_lat), (max_lon, max_lat), (min_lon, max_lat)]\n",
        "\n",
        "# 函数：创建GeoDataFrame\n",
        "def create_geodataframe_from_bbox(min_point, max_point):\n",
        "    rectangle = Polygon(create_polygon_from_bbox(min_point, max_point))\n",
        "    gdf = gpd.GeoDataFrame([1], geometry=[rectangle], columns=['dummy'])\n",
        "    return gdf\n",
        "\n",
        "# Streamlit 界面设置\n",
        "st.title(\"Leafmap and Geopandas in Streamlit\")\n",
        "st.write(\"Enter the coordinates of the bounding box:\")\n",
        "\n",
        "# 用户输入经纬度坐标\n",
        "min_lon = st.number_input(\"Minimum Longitude\", value=72.8488)\n",
        "min_lat = st.number_input(\"Minimum Latitude\", value=19.0384)\n",
        "max_lon = st.number_input(\"Maximum Longitude\", value=72.8604)\n",
        "max_lat = st.number_input(\"Maximum Latitude\", value=19.0484)\n",
        "\n",
        "# 创建地理数据框\n",
        "pointA = (min_lon, min_lat)\n",
        "pointB = (max_lon, max_lat)\n",
        "gdf = create_geodataframe_from_bbox(pointA, pointB)\n",
        "\n",
        "# 显示地图\n",
        "m = leafmap.Map()\n",
        "m.add_basemap(\"SATELLITE\")\n",
        "m.add_gdf(gdf, layer_name=\"Bounding Box\")\n",
        "st.write(\"Here is the bounding box on the map:\")\n",
        "folium_map = m.to_html()\n",
        "st.components.v1.html(folium_map, height=700)\n"
      ],
      "metadata": {
        "colab": {
          "base_uri": "https://localhost:8080/"
        },
        "id": "gshCnjgKhQDb",
        "outputId": "4dc2e1b4-14b2-4977-9f52-e70e05ebcc7e"
      },
      "execution_count": 47,
      "outputs": [
        {
          "output_type": "stream",
          "name": "stdout",
          "text": [
            "Overwriting app.py\n"
          ]
        }
      ]
    },
    {
      "cell_type": "code",
      "source": [
        "from pyngrok import ngrok\n",
        "\n",
        "# 确保没有活动的 ngrok 会话\n",
        "ngrok.kill()\n",
        "\n",
        "# 启动 Streamlit 应用\n",
        "os.system(\"streamlit run app.py &\")\n",
        "\n",
        "# 建立 ngrok 连接，确保使用正确的参数\n",
        "public_url = ngrok.connect(addr='8501')\n",
        "print('Streamlit is running at URL:', public_url)\n"
      ],
      "metadata": {
        "colab": {
          "base_uri": "https://localhost:8080/"
        },
        "id": "Nnr1O-A8iUh1",
        "outputId": "2b6f0bd3-0099-4294-de25-8ce6199b2017"
      },
      "execution_count": 55,
      "outputs": [
        {
          "output_type": "stream",
          "name": "stdout",
          "text": [
            "Streamlit is running at URL: NgrokTunnel: \"https://20a6-35-221-22-48.ngrok-free.app\" -> \"http://localhost:8501\"\n"
          ]
        }
      ]
    }
  ]
}