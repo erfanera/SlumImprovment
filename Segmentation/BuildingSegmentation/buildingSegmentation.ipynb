{
  "nbformat": 4,
  "nbformat_minor": 0,
  "metadata": {
    "colab": {
      "provenance": [],
      "gpuType": "T4",
      "authorship_tag": "ABX9TyNkoAqJy7bRalnT58+jfrjT",
      "include_colab_link": true
    },
    "kernelspec": {
      "name": "python3",
      "display_name": "Python 3"
    },
    "language_info": {
      "name": "python"
    },
    "accelerator": "GPU"
  },
  "cells": [
    {
      "cell_type": "markdown",
      "metadata": {
        "id": "view-in-github",
        "colab_type": "text"
      },
      "source": [
        "<a href=\"https://colab.research.google.com/github/erfanera/SlumImprovment/blob/main/buildingSegmentation.ipynb\" target=\"_parent\"><img src=\"https://colab.research.google.com/assets/colab-badge.svg\" alt=\"Open In Colab\"/></a>"
      ]
    },
    {
      "cell_type": "code",
      "execution_count": null,
      "metadata": {
        "colab": {
          "base_uri": "https://localhost:8080/"
        },
        "id": "8iSUQi9wWalT",
        "outputId": "ceaf659d-503c-4888-d89b-a7f602f80e68"
      },
      "outputs": [
        {
          "output_type": "stream",
          "name": "stdout",
          "text": [
            "Collecting segment-geospatial\n",
            "  Downloading segment_geospatial-0.10.2-py2.py3-none-any.whl (50 kB)\n",
            "\u001b[2K     \u001b[90m━━━━━━━━━━━━━━━━━━━━━━━━━━━━━━━━━━━━━━━━\u001b[0m \u001b[32m50.8/50.8 kB\u001b[0m \u001b[31m1.8 MB/s\u001b[0m eta \u001b[36m0:00:00\u001b[0m\n",
            "\u001b[?25hCollecting segment-anything-py (from segment-geospatial)\n",
            "  Downloading segment_anything_py-1.0-py3-none-any.whl (40 kB)\n",
            "\u001b[2K     \u001b[90m━━━━━━━━━━━━━━━━━━━━━━━━━━━━━━━━━━━━━━━━\u001b[0m \u001b[32m40.2/40.2 kB\u001b[0m \u001b[31m4.9 MB/s\u001b[0m eta \u001b[36m0:00:00\u001b[0m\n",
            "\u001b[?25hCollecting segment-anything-hq (from segment-geospatial)\n",
            "  Downloading segment_anything_hq-0.3-py3-none-any.whl (52 kB)\n",
            "\u001b[2K     \u001b[90m━━━━━━━━━━━━━━━━━━━━━━━━━━━━━━━━━━━━━━━━\u001b[0m \u001b[32m53.0/53.0 kB\u001b[0m \u001b[31m6.7 MB/s\u001b[0m eta \u001b[36m0:00:00\u001b[0m\n",
            "\u001b[?25hRequirement already satisfied: opencv-python in /usr/local/lib/python3.10/dist-packages (from segment-geospatial) (4.8.0.76)\n",
            "Requirement already satisfied: pycocotools in /usr/local/lib/python3.10/dist-packages (from segment-geospatial) (2.0.7)\n",
            "Requirement already satisfied: matplotlib in /usr/local/lib/python3.10/dist-packages (from segment-geospatial) (3.7.1)\n",
            "Requirement already satisfied: huggingface-hub in /usr/local/lib/python3.10/dist-packages (from segment-geospatial) (0.20.3)\n",
            "Requirement already satisfied: geopandas in /usr/local/lib/python3.10/dist-packages (from segment-geospatial) (0.13.2)\n",
            "Collecting rasterio (from segment-geospatial)\n",
            "  Downloading rasterio-1.3.9-cp310-cp310-manylinux2014_x86_64.whl (20.6 MB)\n",
            "\u001b[2K     \u001b[90m━━━━━━━━━━━━━━━━━━━━━━━━━━━━━━━━━━━━━━━━\u001b[0m \u001b[32m20.6/20.6 MB\u001b[0m \u001b[31m56.8 MB/s\u001b[0m eta \u001b[36m0:00:00\u001b[0m\n",
            "\u001b[?25hRequirement already satisfied: tqdm in /usr/local/lib/python3.10/dist-packages (from segment-geospatial) (4.66.2)\n",
            "Requirement already satisfied: gdown in /usr/local/lib/python3.10/dist-packages (from segment-geospatial) (4.7.3)\n",
            "Requirement already satisfied: xyzservices in /usr/local/lib/python3.10/dist-packages (from segment-geospatial) (2023.10.1)\n",
            "Requirement already satisfied: pyproj in /usr/local/lib/python3.10/dist-packages (from segment-geospatial) (3.6.1)\n",
            "Collecting leafmap (from segment-geospatial)\n",
            "  Downloading leafmap-0.31.5-py2.py3-none-any.whl (1.8 MB)\n",
            "\u001b[2K     \u001b[90m━━━━━━━━━━━━━━━━━━━━━━━━━━━━━━━━━━━━━━━━\u001b[0m \u001b[32m1.8/1.8 MB\u001b[0m \u001b[31m76.0 MB/s\u001b[0m eta \u001b[36m0:00:00\u001b[0m\n",
            "\u001b[?25hCollecting localtileserver (from segment-geospatial)\n",
            "  Downloading localtileserver-0.10.1-py3-none-any.whl (17.1 MB)\n",
            "\u001b[2K     \u001b[90m━━━━━━━━━━━━━━━━━━━━━━━━━━━━━━━━━━━━━━━━\u001b[0m \u001b[32m17.1/17.1 MB\u001b[0m \u001b[31m64.3 MB/s\u001b[0m eta \u001b[36m0:00:00\u001b[0m\n",
            "\u001b[?25hCollecting timm (from segment-geospatial)\n",
            "  Downloading timm-0.9.16-py3-none-any.whl (2.2 MB)\n",
            "\u001b[2K     \u001b[90m━━━━━━━━━━━━━━━━━━━━━━━━━━━━━━━━━━━━━━━━\u001b[0m \u001b[32m2.2/2.2 MB\u001b[0m \u001b[31m88.8 MB/s\u001b[0m eta \u001b[36m0:00:00\u001b[0m\n",
            "\u001b[?25hRequirement already satisfied: filelock in /usr/local/lib/python3.10/dist-packages (from gdown->segment-geospatial) (3.13.1)\n",
            "Requirement already satisfied: requests[socks] in /usr/local/lib/python3.10/dist-packages (from gdown->segment-geospatial) (2.31.0)\n",
            "Requirement already satisfied: six in /usr/local/lib/python3.10/dist-packages (from gdown->segment-geospatial) (1.16.0)\n",
            "Requirement already satisfied: beautifulsoup4 in /usr/local/lib/python3.10/dist-packages (from gdown->segment-geospatial) (4.12.3)\n",
            "Requirement already satisfied: fiona>=1.8.19 in /usr/local/lib/python3.10/dist-packages (from geopandas->segment-geospatial) (1.9.5)\n",
            "Requirement already satisfied: packaging in /usr/local/lib/python3.10/dist-packages (from geopandas->segment-geospatial) (23.2)\n",
            "Requirement already satisfied: pandas>=1.1.0 in /usr/local/lib/python3.10/dist-packages (from geopandas->segment-geospatial) (1.5.3)\n",
            "Requirement already satisfied: shapely>=1.7.1 in /usr/local/lib/python3.10/dist-packages (from geopandas->segment-geospatial) (2.0.3)\n",
            "Requirement already satisfied: certifi in /usr/local/lib/python3.10/dist-packages (from pyproj->segment-geospatial) (2024.2.2)\n",
            "Requirement already satisfied: fsspec>=2023.5.0 in /usr/local/lib/python3.10/dist-packages (from huggingface-hub->segment-geospatial) (2023.6.0)\n",
            "Requirement already satisfied: pyyaml>=5.1 in /usr/local/lib/python3.10/dist-packages (from huggingface-hub->segment-geospatial) (6.0.1)\n",
            "Requirement already satisfied: typing-extensions>=3.7.4.3 in /usr/local/lib/python3.10/dist-packages (from huggingface-hub->segment-geospatial) (4.10.0)\n",
            "Requirement already satisfied: bqplot in /usr/local/lib/python3.10/dist-packages (from leafmap->segment-geospatial) (0.12.43)\n",
            "Requirement already satisfied: colour in /usr/local/lib/python3.10/dist-packages (from leafmap->segment-geospatial) (0.1.5)\n",
            "Requirement already satisfied: duckdb in /usr/local/lib/python3.10/dist-packages (from leafmap->segment-geospatial) (0.9.2)\n",
            "Requirement already satisfied: folium in /usr/local/lib/python3.10/dist-packages (from leafmap->segment-geospatial) (0.14.0)\n",
            "Collecting geojson (from leafmap->segment-geospatial)\n",
            "  Downloading geojson-3.1.0-py3-none-any.whl (15 kB)\n",
            "Requirement already satisfied: ipyevents in /usr/local/lib/python3.10/dist-packages (from leafmap->segment-geospatial) (2.0.2)\n",
            "Requirement already satisfied: ipyfilechooser in /usr/local/lib/python3.10/dist-packages (from leafmap->segment-geospatial) (0.6.0)\n",
            "Requirement already satisfied: ipyleaflet in /usr/local/lib/python3.10/dist-packages (from leafmap->segment-geospatial) (0.18.2)\n",
            "Requirement already satisfied: ipywidgets in /usr/local/lib/python3.10/dist-packages (from leafmap->segment-geospatial) (7.7.1)\n",
            "Requirement already satisfied: numpy in /usr/local/lib/python3.10/dist-packages (from leafmap->segment-geospatial) (1.25.2)\n",
            "Requirement already satisfied: plotly in /usr/local/lib/python3.10/dist-packages (from leafmap->segment-geospatial) (5.15.0)\n",
            "Requirement already satisfied: pyshp in /usr/local/lib/python3.10/dist-packages (from leafmap->segment-geospatial) (2.3.1)\n",
            "Collecting pystac-client (from leafmap->segment-geospatial)\n",
            "  Downloading pystac_client-0.7.6-py3-none-any.whl (33 kB)\n",
            "Requirement already satisfied: python-box in /usr/local/lib/python3.10/dist-packages (from leafmap->segment-geospatial) (7.1.1)\n",
            "Requirement already satisfied: scooby in /usr/local/lib/python3.10/dist-packages (from leafmap->segment-geospatial) (0.9.2)\n",
            "Collecting whiteboxgui (from leafmap->segment-geospatial)\n",
            "  Downloading whiteboxgui-2.3.0-py2.py3-none-any.whl (108 kB)\n",
            "\u001b[2K     \u001b[90m━━━━━━━━━━━━━━━━━━━━━━━━━━━━━━━━━━━━━━━━\u001b[0m \u001b[32m108.6/108.6 kB\u001b[0m \u001b[31m13.4 MB/s\u001b[0m eta \u001b[36m0:00:00\u001b[0m\n",
            "\u001b[?25hRequirement already satisfied: click in /usr/local/lib/python3.10/dist-packages (from localtileserver->segment-geospatial) (8.1.7)\n",
            "Requirement already satisfied: flask<4,>=2.0.0 in /usr/local/lib/python3.10/dist-packages (from localtileserver->segment-geospatial) (2.2.5)\n",
            "Collecting Flask-Caching (from localtileserver->segment-geospatial)\n",
            "  Downloading Flask_Caching-2.1.0-py3-none-any.whl (28 kB)\n",
            "Collecting flask-cors (from localtileserver->segment-geospatial)\n",
            "  Downloading Flask_Cors-4.0.0-py2.py3-none-any.whl (14 kB)\n",
            "Collecting flask-restx>=0.5.0 (from localtileserver->segment-geospatial)\n",
            "  Downloading flask_restx-1.3.0-py2.py3-none-any.whl (2.8 MB)\n",
            "\u001b[2K     \u001b[90m━━━━━━━━━━━━━━━━━━━━━━━━━━━━━━━━━━━━━━━━\u001b[0m \u001b[32m2.8/2.8 MB\u001b[0m \u001b[31m86.8 MB/s\u001b[0m eta \u001b[36m0:00:00\u001b[0m\n",
            "\u001b[?25hCollecting rio-tiler (from localtileserver->segment-geospatial)\n",
            "  Downloading rio_tiler-6.4.1-py3-none-any.whl (262 kB)\n",
            "\u001b[2K     \u001b[90m━━━━━━━━━━━━━━━━━━━━━━━━━━━━━━━━━━━━━━━━\u001b[0m \u001b[32m262.5/262.5 kB\u001b[0m \u001b[31m26.7 MB/s\u001b[0m eta \u001b[36m0:00:00\u001b[0m\n",
            "\u001b[?25hCollecting rio-cogeo (from localtileserver->segment-geospatial)\n",
            "  Downloading rio_cogeo-5.2.0-py3-none-any.whl (20 kB)\n",
            "Collecting server-thread (from localtileserver->segment-geospatial)\n",
            "  Downloading server_thread-0.2.0-py3-none-any.whl (8.5 kB)\n",
            "Requirement already satisfied: werkzeug in /usr/local/lib/python3.10/dist-packages (from localtileserver->segment-geospatial) (3.0.1)\n",
            "Requirement already satisfied: contourpy>=1.0.1 in /usr/local/lib/python3.10/dist-packages (from matplotlib->segment-geospatial) (1.2.0)\n",
            "Requirement already satisfied: cycler>=0.10 in /usr/local/lib/python3.10/dist-packages (from matplotlib->segment-geospatial) (0.12.1)\n",
            "Requirement already satisfied: fonttools>=4.22.0 in /usr/local/lib/python3.10/dist-packages (from matplotlib->segment-geospatial) (4.49.0)\n",
            "Requirement already satisfied: kiwisolver>=1.0.1 in /usr/local/lib/python3.10/dist-packages (from matplotlib->segment-geospatial) (1.4.5)\n",
            "Requirement already satisfied: pillow>=6.2.0 in /usr/local/lib/python3.10/dist-packages (from matplotlib->segment-geospatial) (9.4.0)\n",
            "Requirement already satisfied: pyparsing>=2.3.1 in /usr/local/lib/python3.10/dist-packages (from matplotlib->segment-geospatial) (3.1.1)\n",
            "Requirement already satisfied: python-dateutil>=2.7 in /usr/local/lib/python3.10/dist-packages (from matplotlib->segment-geospatial) (2.8.2)\n",
            "Collecting affine (from rasterio->segment-geospatial)\n",
            "  Downloading affine-2.4.0-py3-none-any.whl (15 kB)\n",
            "Requirement already satisfied: attrs in /usr/local/lib/python3.10/dist-packages (from rasterio->segment-geospatial) (23.2.0)\n",
            "Requirement already satisfied: cligj>=0.5 in /usr/local/lib/python3.10/dist-packages (from rasterio->segment-geospatial) (0.7.2)\n",
            "Collecting snuggs>=1.4.1 (from rasterio->segment-geospatial)\n",
            "  Downloading snuggs-1.4.7-py3-none-any.whl (5.4 kB)\n",
            "Requirement already satisfied: click-plugins in /usr/local/lib/python3.10/dist-packages (from rasterio->segment-geospatial) (1.1.1)\n",
            "Requirement already satisfied: setuptools in /usr/local/lib/python3.10/dist-packages (from rasterio->segment-geospatial) (67.7.2)\n",
            "Requirement already satisfied: torch>=1.7 in /usr/local/lib/python3.10/dist-packages (from segment-anything-hq->segment-geospatial) (2.1.0+cu121)\n",
            "Requirement already satisfied: torchvision>=0.8 in /usr/local/lib/python3.10/dist-packages (from segment-anything-hq->segment-geospatial) (0.16.0+cu121)\n",
            "Requirement already satisfied: safetensors in /usr/local/lib/python3.10/dist-packages (from timm->segment-geospatial) (0.4.2)\n",
            "Requirement already satisfied: Jinja2>=3.0 in /usr/local/lib/python3.10/dist-packages (from flask<4,>=2.0.0->localtileserver->segment-geospatial) (3.1.3)\n",
            "Requirement already satisfied: itsdangerous>=2.0 in /usr/local/lib/python3.10/dist-packages (from flask<4,>=2.0.0->localtileserver->segment-geospatial) (2.1.2)\n",
            "Collecting aniso8601>=0.82 (from flask-restx>=0.5.0->localtileserver->segment-geospatial)\n",
            "  Downloading aniso8601-9.0.1-py2.py3-none-any.whl (52 kB)\n",
            "\u001b[2K     \u001b[90m━━━━━━━━━━━━━━━━━━━━━━━━━━━━━━━━━━━━━━━━\u001b[0m \u001b[32m52.8/52.8 kB\u001b[0m \u001b[31m6.8 MB/s\u001b[0m eta \u001b[36m0:00:00\u001b[0m\n",
            "\u001b[?25hRequirement already satisfied: jsonschema in /usr/local/lib/python3.10/dist-packages (from flask-restx>=0.5.0->localtileserver->segment-geospatial) (4.19.2)\n",
            "Requirement already satisfied: pytz in /usr/local/lib/python3.10/dist-packages (from flask-restx>=0.5.0->localtileserver->segment-geospatial) (2023.4)\n",
            "Requirement already satisfied: importlib-resources in /usr/local/lib/python3.10/dist-packages (from flask-restx>=0.5.0->localtileserver->segment-geospatial) (6.1.2)\n",
            "Requirement already satisfied: sympy in /usr/local/lib/python3.10/dist-packages (from torch>=1.7->segment-anything-hq->segment-geospatial) (1.12)\n",
            "Requirement already satisfied: networkx in /usr/local/lib/python3.10/dist-packages (from torch>=1.7->segment-anything-hq->segment-geospatial) (3.2.1)\n",
            "Requirement already satisfied: triton==2.1.0 in /usr/local/lib/python3.10/dist-packages (from torch>=1.7->segment-anything-hq->segment-geospatial) (2.1.0)\n",
            "Requirement already satisfied: MarkupSafe>=2.1.1 in /usr/local/lib/python3.10/dist-packages (from werkzeug->localtileserver->segment-geospatial) (2.1.5)\n",
            "Requirement already satisfied: soupsieve>1.2 in /usr/local/lib/python3.10/dist-packages (from beautifulsoup4->gdown->segment-geospatial) (2.5)\n",
            "Requirement already satisfied: traitlets>=4.3.0 in /usr/local/lib/python3.10/dist-packages (from bqplot->leafmap->segment-geospatial) (5.7.1)\n",
            "Requirement already satisfied: traittypes>=0.0.6 in /usr/local/lib/python3.10/dist-packages (from bqplot->leafmap->segment-geospatial) (0.2.1)\n",
            "Requirement already satisfied: ipykernel>=4.5.1 in /usr/local/lib/python3.10/dist-packages (from ipywidgets->leafmap->segment-geospatial) (5.5.6)\n",
            "Requirement already satisfied: ipython-genutils~=0.2.0 in /usr/local/lib/python3.10/dist-packages (from ipywidgets->leafmap->segment-geospatial) (0.2.0)\n",
            "Requirement already satisfied: widgetsnbextension~=3.6.0 in /usr/local/lib/python3.10/dist-packages (from ipywidgets->leafmap->segment-geospatial) (3.6.6)\n",
            "Requirement already satisfied: ipython>=4.0.0 in /usr/local/lib/python3.10/dist-packages (from ipywidgets->leafmap->segment-geospatial) (7.34.0)\n",
            "Requirement already satisfied: jupyterlab-widgets>=1.0.0 in /usr/local/lib/python3.10/dist-packages (from ipywidgets->leafmap->segment-geospatial) (3.0.10)\n",
            "Collecting cachelib<0.10.0,>=0.9.0 (from Flask-Caching->localtileserver->segment-geospatial)\n",
            "  Downloading cachelib-0.9.0-py3-none-any.whl (15 kB)\n",
            "Requirement already satisfied: branca>=0.6.0 in /usr/local/lib/python3.10/dist-packages (from folium->leafmap->segment-geospatial) (0.7.1)\n",
            "Requirement already satisfied: tenacity>=6.2.0 in /usr/local/lib/python3.10/dist-packages (from plotly->leafmap->segment-geospatial) (8.2.3)\n",
            "Collecting pystac[validation]>=1.8.2 (from pystac-client->leafmap->segment-geospatial)\n",
            "  Downloading pystac-1.9.0-py3-none-any.whl (181 kB)\n",
            "\u001b[2K     \u001b[90m━━━━━━━━━━━━━━━━━━━━━━━━━━━━━━━━━━━━━━━━\u001b[0m \u001b[32m181.6/181.6 kB\u001b[0m \u001b[31m23.0 MB/s\u001b[0m eta \u001b[36m0:00:00\u001b[0m\n",
            "\u001b[?25hRequirement already satisfied: charset-normalizer<4,>=2 in /usr/local/lib/python3.10/dist-packages (from requests[socks]->gdown->segment-geospatial) (3.3.2)\n",
            "Requirement already satisfied: idna<4,>=2.5 in /usr/local/lib/python3.10/dist-packages (from requests[socks]->gdown->segment-geospatial) (3.6)\n",
            "Requirement already satisfied: urllib3<3,>=1.21.1 in /usr/local/lib/python3.10/dist-packages (from requests[socks]->gdown->segment-geospatial) (2.0.7)\n",
            "Requirement already satisfied: PySocks!=1.5.7,>=1.5.6 in /usr/local/lib/python3.10/dist-packages (from requests[socks]->gdown->segment-geospatial) (1.7.1)\n",
            "Collecting morecantile<6.0,>=5.0 (from rio-cogeo->localtileserver->segment-geospatial)\n",
            "  Downloading morecantile-5.3.0-py3-none-any.whl (49 kB)\n",
            "\u001b[2K     \u001b[90m━━━━━━━━━━━━━━━━━━━━━━━━━━━━━━━━━━━━━━━━\u001b[0m \u001b[32m49.0/49.0 kB\u001b[0m \u001b[31m6.5 MB/s\u001b[0m eta \u001b[36m0:00:00\u001b[0m\n",
            "\u001b[?25hRequirement already satisfied: pydantic~=2.0 in /usr/local/lib/python3.10/dist-packages (from rio-cogeo->localtileserver->segment-geospatial) (2.6.3)\n",
            "Requirement already satisfied: cachetools in /usr/local/lib/python3.10/dist-packages (from rio-tiler->localtileserver->segment-geospatial) (5.3.3)\n",
            "Collecting color-operations (from rio-tiler->localtileserver->segment-geospatial)\n",
            "  Downloading color_operations-0.1.1-cp310-cp310-manylinux_2_5_x86_64.manylinux1_x86_64.manylinux_2_17_x86_64.manylinux2014_x86_64.whl (131 kB)\n",
            "\u001b[2K     \u001b[90m━━━━━━━━━━━━━━━━━━━━━━━━━━━━━━━━━━━━━━━━\u001b[0m \u001b[32m131.7/131.7 kB\u001b[0m \u001b[31m16.8 MB/s\u001b[0m eta \u001b[36m0:00:00\u001b[0m\n",
            "\u001b[?25hCollecting httpx (from rio-tiler->localtileserver->segment-geospatial)\n",
            "  Downloading httpx-0.27.0-py3-none-any.whl (75 kB)\n",
            "\u001b[2K     \u001b[90m━━━━━━━━━━━━━━━━━━━━━━━━━━━━━━━━━━━━━━━━\u001b[0m \u001b[32m75.6/75.6 kB\u001b[0m \u001b[31m10.1 MB/s\u001b[0m eta \u001b[36m0:00:00\u001b[0m\n",
            "\u001b[?25hRequirement already satisfied: numexpr in /usr/local/lib/python3.10/dist-packages (from rio-tiler->localtileserver->segment-geospatial) (2.9.0)\n",
            "Collecting uvicorn (from server-thread->localtileserver->segment-geospatial)\n",
            "  Downloading uvicorn-0.27.1-py3-none-any.whl (60 kB)\n",
            "\u001b[2K     \u001b[90m━━━━━━━━━━━━━━━━━━━━━━━━━━━━━━━━━━━━━━━━\u001b[0m \u001b[32m60.8/60.8 kB\u001b[0m \u001b[31m7.5 MB/s\u001b[0m eta \u001b[36m0:00:00\u001b[0m\n",
            "\u001b[?25hRequirement already satisfied: ipytree in /usr/local/lib/python3.10/dist-packages (from whiteboxgui->leafmap->segment-geospatial) (0.2.2)\n",
            "Collecting whitebox (from whiteboxgui->leafmap->segment-geospatial)\n",
            "  Downloading whitebox-2.3.1-py2.py3-none-any.whl (72 kB)\n",
            "\u001b[2K     \u001b[90m━━━━━━━━━━━━━━━━━━━━━━━━━━━━━━━━━━━━━━━━\u001b[0m \u001b[32m72.1/72.1 kB\u001b[0m \u001b[31m10.3 MB/s\u001b[0m eta \u001b[36m0:00:00\u001b[0m\n",
            "\u001b[?25hRequirement already satisfied: jupyter-client in /usr/local/lib/python3.10/dist-packages (from ipykernel>=4.5.1->ipywidgets->leafmap->segment-geospatial) (6.1.12)\n",
            "Requirement already satisfied: tornado>=4.2 in /usr/local/lib/python3.10/dist-packages (from ipykernel>=4.5.1->ipywidgets->leafmap->segment-geospatial) (6.3.2)\n",
            "Collecting jedi>=0.16 (from ipython>=4.0.0->ipywidgets->leafmap->segment-geospatial)\n",
            "  Downloading jedi-0.19.1-py2.py3-none-any.whl (1.6 MB)\n",
            "\u001b[2K     \u001b[90m━━━━━━━━━━━━━━━━━━━━━━━━━━━━━━━━━━━━━━━━\u001b[0m \u001b[32m1.6/1.6 MB\u001b[0m \u001b[31m79.7 MB/s\u001b[0m eta \u001b[36m0:00:00\u001b[0m\n",
            "\u001b[?25hRequirement already satisfied: decorator in /usr/local/lib/python3.10/dist-packages (from ipython>=4.0.0->ipywidgets->leafmap->segment-geospatial) (4.4.2)\n",
            "Requirement already satisfied: pickleshare in /usr/local/lib/python3.10/dist-packages (from ipython>=4.0.0->ipywidgets->leafmap->segment-geospatial) (0.7.5)\n",
            "Requirement already satisfied: prompt-toolkit!=3.0.0,!=3.0.1,<3.1.0,>=2.0.0 in /usr/local/lib/python3.10/dist-packages (from ipython>=4.0.0->ipywidgets->leafmap->segment-geospatial) (3.0.43)\n",
            "Requirement already satisfied: pygments in /usr/local/lib/python3.10/dist-packages (from ipython>=4.0.0->ipywidgets->leafmap->segment-geospatial) (2.16.1)\n",
            "Requirement already satisfied: backcall in /usr/local/lib/python3.10/dist-packages (from ipython>=4.0.0->ipywidgets->leafmap->segment-geospatial) (0.2.0)\n",
            "Requirement already satisfied: matplotlib-inline in /usr/local/lib/python3.10/dist-packages (from ipython>=4.0.0->ipywidgets->leafmap->segment-geospatial) (0.1.6)\n",
            "Requirement already satisfied: pexpect>4.3 in /usr/local/lib/python3.10/dist-packages (from ipython>=4.0.0->ipywidgets->leafmap->segment-geospatial) (4.9.0)\n",
            "Requirement already satisfied: annotated-types>=0.4.0 in /usr/local/lib/python3.10/dist-packages (from pydantic~=2.0->rio-cogeo->localtileserver->segment-geospatial) (0.6.0)\n",
            "Requirement already satisfied: pydantic-core==2.16.3 in /usr/local/lib/python3.10/dist-packages (from pydantic~=2.0->rio-cogeo->localtileserver->segment-geospatial) (2.16.3)\n",
            "Requirement already satisfied: jsonschema-specifications>=2023.03.6 in /usr/local/lib/python3.10/dist-packages (from jsonschema->flask-restx>=0.5.0->localtileserver->segment-geospatial) (2023.12.1)\n",
            "Requirement already satisfied: referencing>=0.28.4 in /usr/local/lib/python3.10/dist-packages (from jsonschema->flask-restx>=0.5.0->localtileserver->segment-geospatial) (0.33.0)\n",
            "Requirement already satisfied: rpds-py>=0.7.1 in /usr/local/lib/python3.10/dist-packages (from jsonschema->flask-restx>=0.5.0->localtileserver->segment-geospatial) (0.18.0)\n",
            "Requirement already satisfied: notebook>=4.4.1 in /usr/local/lib/python3.10/dist-packages (from widgetsnbextension~=3.6.0->ipywidgets->leafmap->segment-geospatial) (6.5.5)\n",
            "Requirement already satisfied: anyio in /usr/local/lib/python3.10/dist-packages (from httpx->rio-tiler->localtileserver->segment-geospatial) (3.7.1)\n",
            "Collecting httpcore==1.* (from httpx->rio-tiler->localtileserver->segment-geospatial)\n",
            "  Downloading httpcore-1.0.4-py3-none-any.whl (77 kB)\n",
            "\u001b[2K     \u001b[90m━━━━━━━━━━━━━━━━━━━━━━━━━━━━━━━━━━━━━━━━\u001b[0m \u001b[32m77.8/77.8 kB\u001b[0m \u001b[31m9.9 MB/s\u001b[0m eta \u001b[36m0:00:00\u001b[0m\n",
            "\u001b[?25hRequirement already satisfied: sniffio in /usr/local/lib/python3.10/dist-packages (from httpx->rio-tiler->localtileserver->segment-geospatial) (1.3.1)\n",
            "Collecting h11<0.15,>=0.13 (from httpcore==1.*->httpx->rio-tiler->localtileserver->segment-geospatial)\n",
            "  Downloading h11-0.14.0-py3-none-any.whl (58 kB)\n",
            "\u001b[2K     \u001b[90m━━━━━━━━━━━━━━━━━━━━━━━━━━━━━━━━━━━━━━━━\u001b[0m \u001b[32m58.3/58.3 kB\u001b[0m \u001b[31m8.0 MB/s\u001b[0m eta \u001b[36m0:00:00\u001b[0m\n",
            "\u001b[?25hRequirement already satisfied: mpmath>=0.19 in /usr/local/lib/python3.10/dist-packages (from sympy->torch>=1.7->segment-anything-hq->segment-geospatial) (1.3.0)\n",
            "Requirement already satisfied: parso<0.9.0,>=0.8.3 in /usr/local/lib/python3.10/dist-packages (from jedi>=0.16->ipython>=4.0.0->ipywidgets->leafmap->segment-geospatial) (0.8.3)\n",
            "Requirement already satisfied: pyzmq<25,>=17 in /usr/local/lib/python3.10/dist-packages (from notebook>=4.4.1->widgetsnbextension~=3.6.0->ipywidgets->leafmap->segment-geospatial) (23.2.1)\n",
            "Requirement already satisfied: argon2-cffi in /usr/local/lib/python3.10/dist-packages (from notebook>=4.4.1->widgetsnbextension~=3.6.0->ipywidgets->leafmap->segment-geospatial) (23.1.0)\n",
            "Requirement already satisfied: jupyter-core>=4.6.1 in /usr/local/lib/python3.10/dist-packages (from notebook>=4.4.1->widgetsnbextension~=3.6.0->ipywidgets->leafmap->segment-geospatial) (5.7.1)\n",
            "Requirement already satisfied: nbformat in /usr/local/lib/python3.10/dist-packages (from notebook>=4.4.1->widgetsnbextension~=3.6.0->ipywidgets->leafmap->segment-geospatial) (5.9.2)\n",
            "Requirement already satisfied: nbconvert>=5 in /usr/local/lib/python3.10/dist-packages (from notebook>=4.4.1->widgetsnbextension~=3.6.0->ipywidgets->leafmap->segment-geospatial) (6.5.4)\n",
            "Requirement already satisfied: nest-asyncio>=1.5 in /usr/local/lib/python3.10/dist-packages (from notebook>=4.4.1->widgetsnbextension~=3.6.0->ipywidgets->leafmap->segment-geospatial) (1.6.0)\n",
            "Requirement already satisfied: Send2Trash>=1.8.0 in /usr/local/lib/python3.10/dist-packages (from notebook>=4.4.1->widgetsnbextension~=3.6.0->ipywidgets->leafmap->segment-geospatial) (1.8.2)\n",
            "Requirement already satisfied: terminado>=0.8.3 in /usr/local/lib/python3.10/dist-packages (from notebook>=4.4.1->widgetsnbextension~=3.6.0->ipywidgets->leafmap->segment-geospatial) (0.18.0)\n",
            "Requirement already satisfied: prometheus-client in /usr/local/lib/python3.10/dist-packages (from notebook>=4.4.1->widgetsnbextension~=3.6.0->ipywidgets->leafmap->segment-geospatial) (0.20.0)\n",
            "Requirement already satisfied: nbclassic>=0.4.7 in /usr/local/lib/python3.10/dist-packages (from notebook>=4.4.1->widgetsnbextension~=3.6.0->ipywidgets->leafmap->segment-geospatial) (1.0.0)\n",
            "Requirement already satisfied: ptyprocess>=0.5 in /usr/local/lib/python3.10/dist-packages (from pexpect>4.3->ipython>=4.0.0->ipywidgets->leafmap->segment-geospatial) (0.7.0)\n",
            "Requirement already satisfied: wcwidth in /usr/local/lib/python3.10/dist-packages (from prompt-toolkit!=3.0.0,!=3.0.1,<3.1.0,>=2.0.0->ipython>=4.0.0->ipywidgets->leafmap->segment-geospatial) (0.2.13)\n",
            "Requirement already satisfied: exceptiongroup in /usr/local/lib/python3.10/dist-packages (from anyio->httpx->rio-tiler->localtileserver->segment-geospatial) (1.2.0)\n",
            "Requirement already satisfied: platformdirs>=2.5 in /usr/local/lib/python3.10/dist-packages (from jupyter-core>=4.6.1->notebook>=4.4.1->widgetsnbextension~=3.6.0->ipywidgets->leafmap->segment-geospatial) (4.2.0)\n",
            "Requirement already satisfied: jupyter-server>=1.8 in /usr/local/lib/python3.10/dist-packages (from nbclassic>=0.4.7->notebook>=4.4.1->widgetsnbextension~=3.6.0->ipywidgets->leafmap->segment-geospatial) (1.24.0)\n",
            "Requirement already satisfied: notebook-shim>=0.2.3 in /usr/local/lib/python3.10/dist-packages (from nbclassic>=0.4.7->notebook>=4.4.1->widgetsnbextension~=3.6.0->ipywidgets->leafmap->segment-geospatial) (0.2.4)\n",
            "Requirement already satisfied: lxml in /usr/local/lib/python3.10/dist-packages (from nbconvert>=5->notebook>=4.4.1->widgetsnbextension~=3.6.0->ipywidgets->leafmap->segment-geospatial) (4.9.4)\n",
            "Requirement already satisfied: bleach in /usr/local/lib/python3.10/dist-packages (from nbconvert>=5->notebook>=4.4.1->widgetsnbextension~=3.6.0->ipywidgets->leafmap->segment-geospatial) (6.1.0)\n",
            "Requirement already satisfied: defusedxml in /usr/local/lib/python3.10/dist-packages (from nbconvert>=5->notebook>=4.4.1->widgetsnbextension~=3.6.0->ipywidgets->leafmap->segment-geospatial) (0.7.1)\n",
            "Requirement already satisfied: entrypoints>=0.2.2 in /usr/local/lib/python3.10/dist-packages (from nbconvert>=5->notebook>=4.4.1->widgetsnbextension~=3.6.0->ipywidgets->leafmap->segment-geospatial) (0.4)\n",
            "Requirement already satisfied: jupyterlab-pygments in /usr/local/lib/python3.10/dist-packages (from nbconvert>=5->notebook>=4.4.1->widgetsnbextension~=3.6.0->ipywidgets->leafmap->segment-geospatial) (0.3.0)\n",
            "Requirement already satisfied: mistune<2,>=0.8.1 in /usr/local/lib/python3.10/dist-packages (from nbconvert>=5->notebook>=4.4.1->widgetsnbextension~=3.6.0->ipywidgets->leafmap->segment-geospatial) (0.8.4)\n",
            "Requirement already satisfied: nbclient>=0.5.0 in /usr/local/lib/python3.10/dist-packages (from nbconvert>=5->notebook>=4.4.1->widgetsnbextension~=3.6.0->ipywidgets->leafmap->segment-geospatial) (0.9.0)\n",
            "Requirement already satisfied: pandocfilters>=1.4.1 in /usr/local/lib/python3.10/dist-packages (from nbconvert>=5->notebook>=4.4.1->widgetsnbextension~=3.6.0->ipywidgets->leafmap->segment-geospatial) (1.5.1)\n",
            "Requirement already satisfied: tinycss2 in /usr/local/lib/python3.10/dist-packages (from nbconvert>=5->notebook>=4.4.1->widgetsnbextension~=3.6.0->ipywidgets->leafmap->segment-geospatial) (1.2.1)\n",
            "Requirement already satisfied: fastjsonschema in /usr/local/lib/python3.10/dist-packages (from nbformat->notebook>=4.4.1->widgetsnbextension~=3.6.0->ipywidgets->leafmap->segment-geospatial) (2.19.1)\n",
            "Requirement already satisfied: argon2-cffi-bindings in /usr/local/lib/python3.10/dist-packages (from argon2-cffi->notebook>=4.4.1->widgetsnbextension~=3.6.0->ipywidgets->leafmap->segment-geospatial) (21.2.0)\n",
            "Requirement already satisfied: websocket-client in /usr/local/lib/python3.10/dist-packages (from jupyter-server>=1.8->nbclassic>=0.4.7->notebook>=4.4.1->widgetsnbextension~=3.6.0->ipywidgets->leafmap->segment-geospatial) (1.7.0)\n",
            "Requirement already satisfied: cffi>=1.0.1 in /usr/local/lib/python3.10/dist-packages (from argon2-cffi-bindings->argon2-cffi->notebook>=4.4.1->widgetsnbextension~=3.6.0->ipywidgets->leafmap->segment-geospatial) (1.16.0)\n",
            "Requirement already satisfied: webencodings in /usr/local/lib/python3.10/dist-packages (from bleach->nbconvert>=5->notebook>=4.4.1->widgetsnbextension~=3.6.0->ipywidgets->leafmap->segment-geospatial) (0.5.1)\n",
            "Requirement already satisfied: pycparser in /usr/local/lib/python3.10/dist-packages (from cffi>=1.0.1->argon2-cffi-bindings->argon2-cffi->notebook>=4.4.1->widgetsnbextension~=3.6.0->ipywidgets->leafmap->segment-geospatial) (2.21)\n",
            "Installing collected packages: aniso8601, whitebox, snuggs, jedi, h11, geojson, color-operations, cachelib, affine, uvicorn, rasterio, pystac, httpcore, server-thread, morecantile, httpx, flask-cors, Flask-Caching, timm, segment-anything-py, segment-anything-hq, rio-tiler, rio-cogeo, flask-restx, pystac-client, localtileserver, whiteboxgui, leafmap, segment-geospatial\n",
            "Successfully installed Flask-Caching-2.1.0 affine-2.4.0 aniso8601-9.0.1 cachelib-0.9.0 color-operations-0.1.1 flask-cors-4.0.0 flask-restx-1.3.0 geojson-3.1.0 h11-0.14.0 httpcore-1.0.4 httpx-0.27.0 jedi-0.19.1 leafmap-0.31.5 localtileserver-0.10.1 morecantile-5.3.0 pystac-1.9.0 pystac-client-0.7.6 rasterio-1.3.9 rio-cogeo-5.2.0 rio-tiler-6.4.1 segment-anything-hq-0.3 segment-anything-py-1.0 segment-geospatial-0.10.2 server-thread-0.2.0 snuggs-1.4.7 timm-0.9.16 uvicorn-0.27.1 whitebox-2.3.1 whiteboxgui-2.3.0\n"
          ]
        }
      ],
      "source": [
        "%pip install segment-geospatial"
      ]
    },
    {
      "cell_type": "code",
      "source": [
        "import os\n",
        "import leafmap\n",
        "from samgeo import SamGeo, tms_to_geotiff, get_basemaps"
      ],
      "metadata": {
        "id": "uJJHNAW-Wptl"
      },
      "execution_count": null,
      "outputs": []
    },
    {
      "cell_type": "code",
      "source": [
        "image  = \"/root/splitImage01_Original.png\""
      ],
      "metadata": {
        "id": "CD7I7iQ0WqOx"
      },
      "execution_count": null,
      "outputs": []
    },
    {
      "cell_type": "code",
      "source": [
        "sam = SamGeo(\n",
        "    model_type=\"vit_h\",\n",
        "    checkpoint=\"sam_vit_h_4b8939.pth\",\n",
        "    sam_kwargs=None,\n",
        ")"
      ],
      "metadata": {
        "colab": {
          "base_uri": "https://localhost:8080/"
        },
        "id": "OgWEsEfnW75q",
        "outputId": "09b03517-f0c6-492d-9437-dd03acc28e3d"
      },
      "execution_count": null,
      "outputs": [
        {
          "output_type": "stream",
          "name": "stdout",
          "text": [
            "Model checkpoint for vit_h not found.\n"
          ]
        },
        {
          "output_type": "stream",
          "name": "stderr",
          "text": [
            "Downloading...\n",
            "From: https://dl.fbaipublicfiles.com/segment_anything/sam_vit_h_4b8939.pth\n",
            "To: /root/.cache/torch/hub/checkpoints/sam_vit_h_4b8939.pth\n",
            "100%|██████████| 2.56G/2.56G [00:25<00:00, 102MB/s]\n"
          ]
        }
      ]
    },
    {
      "cell_type": "code",
      "source": [
        "mask = \"segment.tif\"\n",
        "sam.generate(\n",
        "    image, mask, batch=True, foreground=True, erosion_kernel=(3, 3), mask_multiplier=255\n",
        ")"
      ],
      "metadata": {
        "colab": {
          "base_uri": "https://localhost:8080/"
        },
        "id": "12p2t6O6W-o0",
        "outputId": "4c7be69c-f206-412a-c335-193b905383fb"
      },
      "execution_count": null,
      "outputs": [
        {
          "output_type": "stream",
          "name": "stderr",
          "text": [
            "WARNING:rasterio._env:CPLE_AppDefined in libpng: iCCP: known incorrect sRGB profile\n",
            "  0%|          | 0/49 [00:00<?, ?it/s]WARNING:rasterio._env:CPLE_AppDefined in libpng: iCCP: known incorrect sRGB profile\n",
            "  2%|▏         | 1/49 [00:09<07:31,  9.41s/it]WARNING:rasterio._env:CPLE_AppDefined in libpng: iCCP: known incorrect sRGB profile\n",
            "  4%|▍         | 2/49 [00:16<06:29,  8.28s/it]WARNING:rasterio._env:CPLE_AppDefined in libpng: iCCP: known incorrect sRGB profile\n",
            "  6%|▌         | 3/49 [00:24<06:14,  8.15s/it]WARNING:rasterio._env:CPLE_AppDefined in libpng: iCCP: known incorrect sRGB profile\n",
            "  8%|▊         | 4/49 [00:33<06:06,  8.15s/it]WARNING:rasterio._env:CPLE_AppDefined in libpng: iCCP: known incorrect sRGB profile\n",
            " 10%|█         | 5/49 [00:40<05:47,  7.90s/it]WARNING:rasterio._env:CPLE_AppDefined in libpng: iCCP: known incorrect sRGB profile\n",
            " 12%|█▏        | 6/49 [00:49<05:49,  8.12s/it]WARNING:rasterio._env:CPLE_AppDefined in libpng: iCCP: known incorrect sRGB profile\n",
            " 14%|█▍        | 7/49 [00:56<05:37,  8.04s/it]WARNING:rasterio._env:CPLE_AppDefined in libpng: iCCP: known incorrect sRGB profile\n",
            " 16%|█▋        | 8/49 [01:03<05:16,  7.73s/it]WARNING:rasterio._env:CPLE_AppDefined in libpng: iCCP: known incorrect sRGB profile\n",
            " 18%|█▊        | 9/49 [01:11<05:05,  7.63s/it]WARNING:rasterio._env:CPLE_AppDefined in libpng: iCCP: known incorrect sRGB profile\n",
            " 20%|██        | 10/49 [01:19<05:02,  7.75s/it]WARNING:rasterio._env:CPLE_AppDefined in libpng: iCCP: known incorrect sRGB profile\n",
            " 22%|██▏       | 11/49 [01:27<04:58,  7.86s/it]WARNING:rasterio._env:CPLE_AppDefined in libpng: iCCP: known incorrect sRGB profile\n",
            " 24%|██▍       | 12/49 [01:35<04:51,  7.87s/it]WARNING:rasterio._env:CPLE_AppDefined in libpng: iCCP: known incorrect sRGB profile\n",
            " 27%|██▋       | 13/49 [01:43<04:40,  7.79s/it]WARNING:rasterio._env:CPLE_AppDefined in libpng: iCCP: known incorrect sRGB profile\n",
            " 29%|██▊       | 14/49 [01:50<04:28,  7.66s/it]WARNING:rasterio._env:CPLE_AppDefined in libpng: iCCP: known incorrect sRGB profile\n",
            " 31%|███       | 15/49 [01:57<04:18,  7.61s/it]WARNING:rasterio._env:CPLE_AppDefined in libpng: iCCP: known incorrect sRGB profile\n",
            " 33%|███▎      | 16/49 [02:05<04:09,  7.56s/it]WARNING:rasterio._env:CPLE_AppDefined in libpng: iCCP: known incorrect sRGB profile\n",
            " 35%|███▍      | 17/49 [02:13<04:06,  7.71s/it]WARNING:rasterio._env:CPLE_AppDefined in libpng: iCCP: known incorrect sRGB profile\n",
            " 37%|███▋      | 18/49 [02:21<04:01,  7.80s/it]WARNING:rasterio._env:CPLE_AppDefined in libpng: iCCP: known incorrect sRGB profile\n",
            " 39%|███▉      | 19/49 [02:28<03:51,  7.72s/it]WARNING:rasterio._env:CPLE_AppDefined in libpng: iCCP: known incorrect sRGB profile\n",
            " 41%|████      | 20/49 [02:36<03:43,  7.69s/it]WARNING:rasterio._env:CPLE_AppDefined in libpng: iCCP: known incorrect sRGB profile\n",
            " 43%|████▎     | 21/49 [02:43<03:32,  7.58s/it]WARNING:rasterio._env:CPLE_AppDefined in libpng: iCCP: known incorrect sRGB profile\n",
            " 45%|████▍     | 22/49 [02:51<03:26,  7.64s/it]WARNING:rasterio._env:CPLE_AppDefined in libpng: iCCP: known incorrect sRGB profile\n",
            " 47%|████▋     | 23/49 [02:59<03:19,  7.66s/it]WARNING:rasterio._env:CPLE_AppDefined in libpng: iCCP: known incorrect sRGB profile\n",
            " 49%|████▉     | 24/49 [03:07<03:13,  7.72s/it]WARNING:rasterio._env:CPLE_AppDefined in libpng: iCCP: known incorrect sRGB profile\n",
            " 51%|█████     | 25/49 [03:15<03:06,  7.78s/it]WARNING:rasterio._env:CPLE_AppDefined in libpng: iCCP: known incorrect sRGB profile\n",
            " 53%|█████▎    | 26/49 [03:23<02:59,  7.81s/it]WARNING:rasterio._env:CPLE_AppDefined in libpng: iCCP: known incorrect sRGB profile\n",
            " 55%|█████▌    | 27/49 [03:30<02:51,  7.79s/it]WARNING:rasterio._env:CPLE_AppDefined in libpng: iCCP: known incorrect sRGB profile\n",
            " 57%|█████▋    | 28/49 [03:38<02:41,  7.71s/it]WARNING:rasterio._env:CPLE_AppDefined in libpng: iCCP: known incorrect sRGB profile\n",
            " 59%|█████▉    | 29/49 [03:46<02:37,  7.87s/it]WARNING:rasterio._env:CPLE_AppDefined in libpng: iCCP: known incorrect sRGB profile\n",
            " 61%|██████    | 30/49 [03:54<02:29,  7.87s/it]WARNING:rasterio._env:CPLE_AppDefined in libpng: iCCP: known incorrect sRGB profile\n",
            " 63%|██████▎   | 31/49 [04:02<02:20,  7.81s/it]WARNING:rasterio._env:CPLE_AppDefined in libpng: iCCP: known incorrect sRGB profile\n",
            " 65%|██████▌   | 32/49 [04:09<02:12,  7.79s/it]WARNING:rasterio._env:CPLE_AppDefined in libpng: iCCP: known incorrect sRGB profile\n",
            " 67%|██████▋   | 33/49 [04:17<02:06,  7.88s/it]WARNING:rasterio._env:CPLE_AppDefined in libpng: iCCP: known incorrect sRGB profile\n",
            " 69%|██████▉   | 34/49 [04:25<01:57,  7.82s/it]WARNING:rasterio._env:CPLE_AppDefined in libpng: iCCP: known incorrect sRGB profile\n",
            " 71%|███████▏  | 35/49 [04:33<01:49,  7.85s/it]WARNING:rasterio._env:CPLE_AppDefined in libpng: iCCP: known incorrect sRGB profile\n",
            " 73%|███████▎  | 36/49 [04:42<01:48,  8.32s/it]WARNING:rasterio._env:CPLE_AppDefined in libpng: iCCP: known incorrect sRGB profile\n",
            " 76%|███████▌  | 37/49 [04:51<01:39,  8.30s/it]WARNING:rasterio._env:CPLE_AppDefined in libpng: iCCP: known incorrect sRGB profile\n",
            " 78%|███████▊  | 38/49 [04:59<01:30,  8.19s/it]WARNING:rasterio._env:CPLE_AppDefined in libpng: iCCP: known incorrect sRGB profile\n",
            " 80%|███████▉  | 39/49 [05:07<01:21,  8.19s/it]WARNING:rasterio._env:CPLE_AppDefined in libpng: iCCP: known incorrect sRGB profile\n",
            " 82%|████████▏ | 40/49 [05:15<01:13,  8.21s/it]WARNING:rasterio._env:CPLE_AppDefined in libpng: iCCP: known incorrect sRGB profile\n",
            " 84%|████████▎ | 41/49 [05:24<01:07,  8.41s/it]WARNING:rasterio._env:CPLE_AppDefined in libpng: iCCP: known incorrect sRGB profile\n",
            " 86%|████████▌ | 42/49 [05:33<00:59,  8.54s/it]WARNING:rasterio._env:CPLE_AppDefined in libpng: iCCP: known incorrect sRGB profile\n",
            " 88%|████████▊ | 43/49 [05:41<00:51,  8.54s/it]WARNING:rasterio._env:CPLE_AppDefined in libpng: iCCP: known incorrect sRGB profile\n",
            " 90%|████████▉ | 44/49 [05:51<00:43,  8.79s/it]WARNING:rasterio._env:CPLE_AppDefined in libpng: iCCP: known incorrect sRGB profile\n",
            " 92%|█████████▏| 45/49 [05:59<00:35,  8.76s/it]WARNING:rasterio._env:CPLE_AppDefined in libpng: iCCP: known incorrect sRGB profile\n",
            " 94%|█████████▍| 46/49 [06:09<00:26,  8.89s/it]WARNING:rasterio._env:CPLE_AppDefined in libpng: iCCP: known incorrect sRGB profile\n",
            " 96%|█████████▌| 47/49 [06:18<00:18,  9.07s/it]WARNING:rasterio._env:CPLE_AppDefined in libpng: iCCP: known incorrect sRGB profile\n",
            " 98%|█████████▊| 48/49 [06:28<00:09,  9.17s/it]WARNING:rasterio._env:CPLE_AppDefined in libpng: iCCP: known incorrect sRGB profile\n",
            "100%|██████████| 49/49 [06:36<00:00,  8.09s/it]\n",
            "WARNING:rasterio._env:CPLE_NotSupported in driver PNG does not support creation option BLOCKYSIZE\n",
            "WARNING:rasterio._env:CPLE_NotSupported in driver PNG does not support creation option TILED\n",
            "WARNING:rasterio._env:CPLE_NotSupported in driver PNG does not support creation option INTERLEAVE\n"
          ]
        }
      ]
    },
    {
      "cell_type": "code",
      "source": [],
      "metadata": {
        "colab": {
          "base_uri": "https://localhost:8080/",
          "height": 200
        },
        "id": "x8-Pz4hdW98i",
        "outputId": "595bfd20-09c5-49c5-a512-fd082cdbbd95"
      },
      "execution_count": null,
      "outputs": [
        {
          "output_type": "error",
          "ename": "AttributeError",
          "evalue": "'str' object has no attribute 'astype'",
          "traceback": [
            "\u001b[0;31m---------------------------------------------------------------------------\u001b[0m",
            "\u001b[0;31mAttributeError\u001b[0m                            Traceback (most recent call last)",
            "\u001b[0;32m<ipython-input-10-42134a986ac7>\u001b[0m in \u001b[0;36m<cell line: 1>\u001b[0;34m()\u001b[0m\n\u001b[0;32m----> 1\u001b[0;31m \u001b[0mmask_image\u001b[0m \u001b[0;34m=\u001b[0m \u001b[0mImage\u001b[0m\u001b[0;34m.\u001b[0m\u001b[0mfromarray\u001b[0m\u001b[0;34m(\u001b[0m\u001b[0mmask\u001b[0m\u001b[0;34m.\u001b[0m\u001b[0mastype\u001b[0m\u001b[0;34m(\u001b[0m\u001b[0mnp\u001b[0m\u001b[0;34m.\u001b[0m\u001b[0muint8\u001b[0m\u001b[0;34m)\u001b[0m\u001b[0;34m)\u001b[0m\u001b[0;34m\u001b[0m\u001b[0;34m\u001b[0m\u001b[0m\n\u001b[0m\u001b[1;32m      2\u001b[0m \u001b[0;34m\u001b[0m\u001b[0m\n\u001b[1;32m      3\u001b[0m \u001b[0;31m# Save the mask image\u001b[0m\u001b[0;34m\u001b[0m\u001b[0;34m\u001b[0m\u001b[0m\n\u001b[1;32m      4\u001b[0m \u001b[0mmask_image\u001b[0m\u001b[0;34m.\u001b[0m\u001b[0msave\u001b[0m\u001b[0;34m(\u001b[0m\u001b[0;34m'processed_mask.tif'\u001b[0m\u001b[0;34m)\u001b[0m\u001b[0;34m\u001b[0m\u001b[0;34m\u001b[0m\u001b[0m\n",
            "\u001b[0;31mAttributeError\u001b[0m: 'str' object has no attribute 'astype'"
          ]
        }
      ]
    },
    {
      "cell_type": "code",
      "source": [],
      "metadata": {
        "id": "QEnjm-NCZkva"
      },
      "execution_count": null,
      "outputs": []
    }
  ]
}