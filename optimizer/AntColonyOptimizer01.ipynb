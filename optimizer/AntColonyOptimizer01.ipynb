{
  "cells": [
    {
      "cell_type": "markdown",
      "metadata": {
        "id": "view-in-github",
        "colab_type": "text"
      },
      "source": [
        "<a href=\"https://colab.research.google.com/github/erfanera/SlumImprovment/blob/main/optimizer/AntColonyOptimizer01.ipynb\" target=\"_parent\"><img src=\"https://colab.research.google.com/assets/colab-badge.svg\" alt=\"Open In Colab\"/></a>"
      ]
    },
    {
      "cell_type": "markdown",
      "metadata": {
        "id": "u1PM99zLC-uu"
      },
      "source": [
        "# Ant Colony Optimization"
      ]
    },
    {
      "cell_type": "raw",
      "metadata": {
        "id": "_B_USFW1C-uw"
      },
      "source": [
        "Morteza Rahbar, AI 3-11 , May 2019"
      ]
    },
    {
      "cell_type": "markdown",
      "metadata": {
        "id": "wtFck6WkC-ux"
      },
      "source": [
        "![Ants](2.jpg)"
      ]
    },
    {
      "cell_type": "markdown",
      "metadata": {
        "id": "ntrjgHFNC-ux"
      },
      "source": [
        "![Ants](1.png)"
      ]
    },
    {
      "cell_type": "markdown",
      "metadata": {
        "id": "xgurxLysC-ux"
      },
      "source": [
        "### Ant Pheromone Trail"
      ]
    },
    {
      "cell_type": "markdown",
      "metadata": {
        "id": "NYpd7Hm-C-uy"
      },
      "source": [
        "![Ants](3.jpg)"
      ]
    },
    {
      "cell_type": "code",
      "execution_count": 18,
      "metadata": {
        "id": "elllSAanC-uy"
      },
      "outputs": [],
      "source": [
        "import random\n",
        "import matplotlib.pyplot as plt\n",
        "import math\n",
        "import numpy as np\n",
        "import itertools\n",
        "import copy\n",
        "\n",
        "%matplotlib inline"
      ]
    },
    {
      "cell_type": "code",
      "execution_count": 19,
      "metadata": {
        "id": "Gny_fOqgC-uz"
      },
      "outputs": [],
      "source": [
        "class TSPmodel:\n",
        "\n",
        "    def __init__(self, num):\n",
        "        # create city coordinates\n",
        "        self.x = [random.randint(0,100) for _ in range(num)]\n",
        "        self.y = [random.randint(0,100) for _ in range(num)]\n",
        "        self.cities = list(zip(self.x,self.y))\n",
        "\n",
        "\n",
        "        # store the number of cities\n",
        "        self.n = num\n",
        "\n",
        "        # create distance matrix\n",
        "        self.d = np.zeros((num,num))\n",
        "\n",
        "        for i,j in itertools.combinations(self.cities,2):\n",
        "            # compute the euclidean distance\n",
        "            distance = math.sqrt((i[0]-j[0])**2 +\n",
        "                                (i[1]-j[1])**2)\n",
        "\n",
        "            # find the cities index\n",
        "            t = self.cities.index(i)\n",
        "            u = self.cities.index(j)\n",
        "\n",
        "            self.d[t][u] = distance\n",
        "            self.d[u][t] = distance\n",
        "\n",
        "    def plot_model(self):\n",
        "        for i,j,k in zip(range(self.n), self.x, self.y):\n",
        "            plt.text(j+0.05, k+0.05, str(i),\n",
        "            color = 'Black', fontsize = 12)\n",
        "\n",
        "        plt.plot(self.x,self.y, 'bo')\n",
        "#         plt.plot(self.x,self.y, 'r--')\n",
        "        plt.show()"
      ]
    },
    {
      "cell_type": "markdown",
      "metadata": {
        "id": "ZJFlq6FiC-uz"
      },
      "source": [
        "### a sample country"
      ]
    },
    {
      "cell_type": "code",
      "execution_count": 4,
      "metadata": {
        "id": "-h8LZZQ7C-uz"
      },
      "outputs": [],
      "source": [
        "sample_country = TSPmodel(5)"
      ]
    },
    {
      "cell_type": "code",
      "execution_count": 5,
      "metadata": {
        "colab": {
          "base_uri": "https://localhost:8080/",
          "height": 430
        },
        "id": "aYvEcaFcC-u0",
        "outputId": "4a8fc50b-a09a-4aac-fb4e-2beea83c142e"
      },
      "outputs": [
        {
          "output_type": "display_data",
          "data": {
            "text/plain": [
              "<Figure size 640x480 with 1 Axes>"
            ],
            "image/png": "[encoded data removed]"
          },
          "metadata": {}
        }
      ],
      "source": [
        "sample_country.plot_model()"
      ]
    },
    {
      "cell_type": "markdown",
      "metadata": {
        "id": "ZRoZDpH9C-u0"
      },
      "source": [
        "### Define the cost function"
      ]
    },
    {
      "cell_type": "code",
      "execution_count": 16,
      "metadata": {
        "id": "n7OtrwS-C-u1"
      },
      "outputs": [],
      "source": [
        "def tour_length(tour, model):\n",
        "    # psi = tour\n",
        "    tour = list(tour)\n",
        "#     tour = [3,4,1,0,2]\n",
        "    n = model.n\n",
        "\n",
        "    # the tour should end to the first city\n",
        "    tour.append(tour[0])\n",
        "#     tour = [3,4,1,0,2,3]\n",
        "\n",
        "    dis = [model.d[tour[i]][tour[i+1]] for i in range(n)]\n",
        "    return sum(dis)"
      ]
    },
    {
      "cell_type": "code",
      "execution_count": 17,
      "metadata": {
        "colab": {
          "base_uri": "https://localhost:8080/"
        },
        "id": "H_QMKHbSC-u1",
        "outputId": "f9157326-4ac1-41de-c8cc-7fa376f741d7"
      },
      "outputs": [
        {
          "output_type": "execute_result",
          "data": {
            "text/plain": [
              "189.8651471456089"
            ]
          },
          "metadata": {},
          "execution_count": 17
        }
      ],
      "source": [
        "tour_length([2,3,1,0,4] , sample_country)"
      ]
    },
    {
      "cell_type": "markdown",
      "metadata": {
        "id": "tJZtibAcC-u1"
      },
      "source": [
        "### Problem Definition"
      ]
    },
    {
      "cell_type": "code",
      "execution_count": 8,
      "metadata": {
        "id": "6CnJOEBWC-u2"
      },
      "outputs": [],
      "source": [
        "nCities = 30\n",
        "\n",
        "country = TSPmodel(nCities)\n",
        "\n",
        "cost_function = lambda t: tour_length(t, country)"
      ]
    },
    {
      "cell_type": "code",
      "execution_count": 9,
      "metadata": {
        "colab": {
          "base_uri": "https://localhost:8080/",
          "height": 430
        },
        "id": "DTwXnduIC-u2",
        "outputId": "51c638c5-2f0d-4595-8f4b-72cf325576ed"
      },
      "outputs": [
        {
          "output_type": "display_data",
          "data": {
            "text/plain": [
              "<Figure size 640x480 with 1 Axes>"
            ],
            "image/png": "[encoded data removed]"
          },
          "metadata": {}
        }
      ],
      "source": [
        "country.plot_model()"
      ]
    },
    {
      "cell_type": "markdown",
      "metadata": {
        "id": "E2fHv2zoC-u2"
      },
      "source": [
        "### Ant Transition Rule"
      ]
    },
    {
      "cell_type": "markdown",
      "metadata": {
        "id": "L7Vn28ERC-u2"
      },
      "source": [
        "![p](4.jpg)"
      ]
    },
    {
      "cell_type": "markdown",
      "metadata": {
        "id": "6iIDwfBNC-u2"
      },
      "source": [
        "### Pheromone Update"
      ]
    },
    {
      "cell_type": "markdown",
      "metadata": {
        "id": "FB8QiAvoC-u3"
      },
      "source": [
        "![ph](6.png)"
      ]
    },
    {
      "cell_type": "markdown",
      "metadata": {
        "id": "y2Co3mNyC-u3"
      },
      "source": [
        "![Q](8.png)"
      ]
    },
    {
      "cell_type": "markdown",
      "metadata": {
        "id": "hjO7j-uKC-u3"
      },
      "source": [
        "Some deposit functions:\n",
        "    ant system\n",
        "    elitist ant system\n",
        "    ant colony system\n",
        "    MMAS\n",
        "    simple ant system\n",
        "    ..."
      ]
    },
    {
      "cell_type": "markdown",
      "metadata": {
        "id": "UD8hjq2vC-u3"
      },
      "source": [
        "### ACO Hyper parameters definition"
      ]
    },
    {
      "cell_type": "code",
      "execution_count": 10,
      "metadata": {
        "id": "KxF32D1LC-u3"
      },
      "outputs": [],
      "source": [
        "maxIt = 300\n",
        "\n",
        "nAnts = 50\n",
        "\n",
        "alpha = 1      # pheromone exponential weight\n",
        "beta = 1       # heuristic exponential weight\n",
        "\n",
        "Q = 1          # pheromone deposit coefficient\n",
        "\n",
        "rho = 0.05     # evaporation rate\n",
        "\n",
        "initial_tau = 1 # inital pheromone"
      ]
    },
    {
      "cell_type": "markdown",
      "metadata": {
        "id": "Mffv0AeiC-u4"
      },
      "source": [
        "### Initialization"
      ]
    },
    {
      "cell_type": "code",
      "execution_count": 11,
      "metadata": {
        "colab": {
          "base_uri": "https://localhost:8080/"
        },
        "id": "GZB2dx1hC-u4",
        "outputId": "492623d3-d1e3-44d0-d4fb-e63c0d113c22"
      },
      "outputs": [
        {
          "output_type": "stream",
          "name": "stderr",
          "text": [
            "<ipython-input-11-264fd75800c9>:1: RuntimeWarning: divide by zero encountered in divide\n",
            "  eta = 1 / country.d\n"
          ]
        }
      ],
      "source": [
        "eta = 1 / country.d\n",
        "\n",
        "tau = initial_tau * np.ones((nCities, nCities))\n",
        "\n",
        "best_cost = []\n",
        "\n",
        "class Ant:\n",
        "    def __init__(self):\n",
        "        self.tour = []\n",
        "        self.cost = np.inf\n",
        "\n",
        "ant = [Ant() for _ in range(nAnts)]\n",
        "\n",
        "best_ant = Ant()"
      ]
    },
    {
      "cell_type": "markdown",
      "metadata": {
        "id": "ySwWlyzHC-u4"
      },
      "source": [
        "### Roulette Wheel random function"
      ]
    },
    {
      "cell_type": "code",
      "execution_count": 12,
      "metadata": {
        "id": "tRHcGoGgC-u4"
      },
      "outputs": [],
      "source": [
        "def roulette_wheel(x):      # x is a list of probabilities\n",
        "    r = random.random()\n",
        "    prob_cum_sum = np.cumsum(x)\n",
        "    prob_segment = list(filter(lambda t: r<=t, prob_cum_sum))[0]\n",
        "    prob_index = list(prob_cum_sum).index(prob_segment)\n",
        "    return prob_index"
      ]
    },
    {
      "cell_type": "markdown",
      "metadata": {
        "id": "o-rQYqi9C-u4"
      },
      "source": [
        "### ACO Main Loop"
      ]
    },
    {
      "cell_type": "code",
      "execution_count": 13,
      "metadata": {
        "colab": {
          "base_uri": "https://localhost:8080/"
        },
        "id": "LlCWJPzKC-u5",
        "outputId": "4bed7551-1a51-4548-cf4f-e282fb9e76ea"
      },
      "outputs": [
        {
          "output_type": "stream",
          "name": "stdout",
          "text": [
            "Iteration 0: Best Cost = 890.1204023080793\n",
            "Iteration 1: Best Cost = 890.1204023080793\n",
            "Iteration 2: Best Cost = 890.1204023080793\n",
            "Iteration 3: Best Cost = 890.1204023080793\n",
            "Iteration 4: Best Cost = 890.1204023080793\n",
            "Iteration 5: Best Cost = 890.1204023080793\n",
            "Iteration 6: Best Cost = 890.1204023080793\n",
            "Iteration 7: Best Cost = 890.1204023080793\n",
            "Iteration 8: Best Cost = 890.1204023080793\n",
            "Iteration 9: Best Cost = 890.1204023080793\n",
            "Iteration 10: Best Cost = 867.9062264746751\n",
            "Iteration 11: Best Cost = 867.9062264746751\n",
            "Iteration 12: Best Cost = 867.9062264746751\n",
            "Iteration 13: Best Cost = 867.9062264746751\n",
            "Iteration 14: Best Cost = 867.9062264746751\n",
            "Iteration 15: Best Cost = 867.9062264746751\n",
            "Iteration 16: Best Cost = 867.9062264746751\n",
            "Iteration 17: Best Cost = 867.9062264746751\n",
            "Iteration 18: Best Cost = 867.9062264746751\n",
            "Iteration 19: Best Cost = 867.9062264746751\n",
            "Iteration 20: Best Cost = 867.9062264746751\n",
            "Iteration 21: Best Cost = 867.9062264746751\n",
            "Iteration 22: Best Cost = 828.3714360733903\n",
            "Iteration 23: Best Cost = 828.3714360733903\n",
            "Iteration 24: Best Cost = 828.3714360733903\n",
            "Iteration 25: Best Cost = 828.3714360733903\n",
            "Iteration 26: Best Cost = 828.3714360733903\n",
            "Iteration 27: Best Cost = 828.3714360733903\n",
            "Iteration 28: Best Cost = 828.3714360733903\n",
            "Iteration 29: Best Cost = 828.3714360733903\n",
            "Iteration 30: Best Cost = 828.3714360733903\n",
            "Iteration 31: Best Cost = 828.3714360733903\n",
            "Iteration 32: Best Cost = 828.3714360733903\n",
            "Iteration 33: Best Cost = 828.3714360733903\n",
            "Iteration 34: Best Cost = 828.3714360733903\n",
            "Iteration 35: Best Cost = 828.3714360733903\n",
            "Iteration 36: Best Cost = 828.3714360733903\n",
            "Iteration 37: Best Cost = 828.3714360733903\n",
            "Iteration 38: Best Cost = 828.3714360733903\n",
            "Iteration 39: Best Cost = 818.1649400524277\n",
            "Iteration 40: Best Cost = 818.1649400524277\n",
            "Iteration 41: Best Cost = 818.1649400524277\n",
            "Iteration 42: Best Cost = 818.1649400524277\n",
            "Iteration 43: Best Cost = 760.9457064244988\n",
            "Iteration 44: Best Cost = 760.9457064244988\n",
            "Iteration 45: Best Cost = 760.9457064244988\n",
            "Iteration 46: Best Cost = 760.9457064244988\n",
            "Iteration 47: Best Cost = 760.9457064244988\n",
            "Iteration 48: Best Cost = 760.9457064244988\n",
            "Iteration 49: Best Cost = 760.9457064244988\n",
            "Iteration 50: Best Cost = 760.9457064244988\n",
            "Iteration 51: Best Cost = 760.9457064244988\n",
            "Iteration 52: Best Cost = 760.9457064244988\n",
            "Iteration 53: Best Cost = 760.9457064244988\n",
            "Iteration 54: Best Cost = 760.9457064244988\n",
            "Iteration 55: Best Cost = 760.9457064244988\n",
            "Iteration 56: Best Cost = 760.9457064244988\n",
            "Iteration 57: Best Cost = 752.8059643421575\n",
            "Iteration 58: Best Cost = 752.8059643421575\n",
            "Iteration 59: Best Cost = 752.8059643421575\n",
            "Iteration 60: Best Cost = 752.8059643421575\n",
            "Iteration 61: Best Cost = 752.8059643421575\n",
            "Iteration 62: Best Cost = 752.8059643421575\n",
            "Iteration 63: Best Cost = 752.8059643421575\n",
            "Iteration 64: Best Cost = 752.8059643421575\n",
            "Iteration 65: Best Cost = 752.8059643421575\n",
            "Iteration 66: Best Cost = 752.8059643421575\n",
            "Iteration 67: Best Cost = 752.8059643421575\n",
            "Iteration 68: Best Cost = 666.6354282383747\n",
            "Iteration 69: Best Cost = 666.6354282383747\n",
            "Iteration 70: Best Cost = 666.6354282383747\n",
            "Iteration 71: Best Cost = 666.6354282383747\n",
            "Iteration 72: Best Cost = 666.6354282383747\n",
            "Iteration 73: Best Cost = 666.6354282383747\n",
            "Iteration 74: Best Cost = 666.6354282383747\n",
            "Iteration 75: Best Cost = 666.6354282383747\n",
            "Iteration 76: Best Cost = 666.6354282383747\n",
            "Iteration 77: Best Cost = 666.6354282383747\n",
            "Iteration 78: Best Cost = 666.6354282383747\n",
            "Iteration 79: Best Cost = 666.6354282383747\n",
            "Iteration 80: Best Cost = 666.6354282383747\n",
            "Iteration 81: Best Cost = 666.6354282383747\n",
            "Iteration 82: Best Cost = 666.6354282383747\n",
            "Iteration 83: Best Cost = 666.6354282383747\n",
            "Iteration 84: Best Cost = 666.6354282383747\n",
            "Iteration 85: Best Cost = 666.6354282383747\n",
            "Iteration 86: Best Cost = 666.6354282383747\n",
            "Iteration 87: Best Cost = 666.6354282383747\n",
            "Iteration 88: Best Cost = 666.6354282383747\n",
            "Iteration 89: Best Cost = 666.6354282383747\n",
            "Iteration 90: Best Cost = 666.6354282383747\n",
            "Iteration 91: Best Cost = 627.3241340639734\n",
            "Iteration 92: Best Cost = 594.8972812750557\n",
            "Iteration 93: Best Cost = 594.8972812750557\n",
            "Iteration 94: Best Cost = 591.0715223958579\n",
            "Iteration 95: Best Cost = 591.0715223958579\n",
            "Iteration 96: Best Cost = 591.0715223958579\n",
            "Iteration 97: Best Cost = 542.9814110547857\n",
            "Iteration 98: Best Cost = 542.9814110547857\n",
            "Iteration 99: Best Cost = 542.9814110547857\n",
            "Iteration 100: Best Cost = 542.9814110547857\n",
            "Iteration 101: Best Cost = 542.9814110547857\n",
            "Iteration 102: Best Cost = 542.9814110547857\n",
            "Iteration 103: Best Cost = 542.9814110547857\n",
            "Iteration 104: Best Cost = 542.9814110547857\n",
            "Iteration 105: Best Cost = 542.9814110547857\n",
            "Iteration 106: Best Cost = 542.9814110547857\n",
            "Iteration 107: Best Cost = 542.9814110547857\n",
            "Iteration 108: Best Cost = 542.9814110547857\n",
            "Iteration 109: Best Cost = 542.9814110547857\n",
            "Iteration 110: Best Cost = 542.9814110547857\n",
            "Iteration 111: Best Cost = 542.9814110547857\n",
            "Iteration 112: Best Cost = 542.9814110547857\n",
            "Iteration 113: Best Cost = 542.9814110547857\n",
            "Iteration 114: Best Cost = 542.9814110547857\n",
            "Iteration 115: Best Cost = 542.9814110547857\n",
            "Iteration 116: Best Cost = 542.9814110547857\n",
            "Iteration 117: Best Cost = 542.9814110547857\n",
            "Iteration 118: Best Cost = 542.9814110547857\n",
            "Iteration 119: Best Cost = 542.9814110547857\n",
            "Iteration 120: Best Cost = 542.9814110547857\n",
            "Iteration 121: Best Cost = 542.9814110547857\n",
            "Iteration 122: Best Cost = 542.9814110547857\n",
            "Iteration 123: Best Cost = 542.9814110547857\n",
            "Iteration 124: Best Cost = 542.9814110547857\n",
            "Iteration 125: Best Cost = 542.9814110547857\n",
            "Iteration 126: Best Cost = 536.2271364906962\n",
            "Iteration 127: Best Cost = 536.2271364906962\n",
            "Iteration 128: Best Cost = 536.2271364906962\n",
            "Iteration 129: Best Cost = 536.2271364906962\n",
            "Iteration 130: Best Cost = 536.2271364906962\n",
            "Iteration 131: Best Cost = 536.2271364906962\n",
            "Iteration 132: Best Cost = 536.2271364906962\n",
            "Iteration 133: Best Cost = 536.2271364906962\n",
            "Iteration 134: Best Cost = 536.2271364906962\n",
            "Iteration 135: Best Cost = 536.2271364906962\n",
            "Iteration 136: Best Cost = 536.2271364906962\n",
            "Iteration 137: Best Cost = 536.2271364906962\n",
            "Iteration 138: Best Cost = 536.2271364906962\n",
            "Iteration 139: Best Cost = 536.2271364906962\n",
            "Iteration 140: Best Cost = 536.2271364906962\n",
            "Iteration 141: Best Cost = 536.2271364906962\n",
            "Iteration 142: Best Cost = 536.2271364906962\n",
            "Iteration 143: Best Cost = 536.2271364906962\n",
            "Iteration 144: Best Cost = 536.2271364906962\n",
            "Iteration 145: Best Cost = 536.2271364906962\n",
            "Iteration 146: Best Cost = 536.2271364906962\n",
            "Iteration 147: Best Cost = 536.2271364906962\n",
            "Iteration 148: Best Cost = 536.2271364906962\n",
            "Iteration 149: Best Cost = 500.5574960164354\n",
            "Iteration 150: Best Cost = 500.5574960164354\n",
            "Iteration 151: Best Cost = 500.5574960164354\n",
            "Iteration 152: Best Cost = 500.5574960164354\n",
            "Iteration 153: Best Cost = 500.5574960164354\n",
            "Iteration 154: Best Cost = 500.5574960164354\n",
            "Iteration 155: Best Cost = 500.5574960164354\n",
            "Iteration 156: Best Cost = 500.5574960164354\n",
            "Iteration 157: Best Cost = 500.5574960164354\n",
            "Iteration 158: Best Cost = 500.5574960164354\n",
            "Iteration 159: Best Cost = 500.5574960164354\n",
            "Iteration 160: Best Cost = 500.5574960164354\n",
            "Iteration 161: Best Cost = 500.5574960164354\n",
            "Iteration 162: Best Cost = 500.5574960164354\n",
            "Iteration 163: Best Cost = 500.5574960164354\n",
            "Iteration 164: Best Cost = 500.5574960164354\n",
            "Iteration 165: Best Cost = 500.5574960164354\n",
            "Iteration 166: Best Cost = 500.5574960164354\n",
            "Iteration 167: Best Cost = 500.5574960164354\n",
            "Iteration 168: Best Cost = 500.5574960164354\n",
            "Iteration 169: Best Cost = 500.5574960164354\n",
            "Iteration 170: Best Cost = 500.5574960164354\n",
            "Iteration 171: Best Cost = 500.5574960164354\n",
            "Iteration 172: Best Cost = 500.5574960164354\n",
            "Iteration 173: Best Cost = 500.5574960164354\n",
            "Iteration 174: Best Cost = 500.5574960164354\n",
            "Iteration 175: Best Cost = 500.5574960164354\n",
            "Iteration 176: Best Cost = 500.5574960164354\n",
            "Iteration 177: Best Cost = 500.5574960164354\n",
            "Iteration 178: Best Cost = 500.5574960164354\n",
            "Iteration 179: Best Cost = 500.5574960164354\n",
            "Iteration 180: Best Cost = 500.5574960164354\n",
            "Iteration 181: Best Cost = 500.5574960164354\n",
            "Iteration 182: Best Cost = 500.5574960164354\n",
            "Iteration 183: Best Cost = 500.5574960164354\n",
            "Iteration 184: Best Cost = 500.5574960164354\n",
            "Iteration 185: Best Cost = 500.5574960164354\n",
            "Iteration 186: Best Cost = 500.5574960164354\n",
            "Iteration 187: Best Cost = 500.5574960164354\n",
            "Iteration 188: Best Cost = 500.5574960164354\n",
            "Iteration 189: Best Cost = 500.5574960164354\n",
            "Iteration 190: Best Cost = 500.5574960164354\n",
            "Iteration 191: Best Cost = 500.5574960164354\n",
            "Iteration 192: Best Cost = 500.5574960164354\n",
            "Iteration 193: Best Cost = 492.5259397830641\n",
            "Iteration 194: Best Cost = 492.5259397830641\n",
            "Iteration 195: Best Cost = 492.5259397830641\n",
            "Iteration 196: Best Cost = 492.5259397830641\n",
            "Iteration 197: Best Cost = 492.5259397830641\n",
            "Iteration 198: Best Cost = 492.5259397830641\n",
            "Iteration 199: Best Cost = 492.5259397830641\n",
            "Iteration 200: Best Cost = 492.5259397830641\n",
            "Iteration 201: Best Cost = 492.5259397830641\n",
            "Iteration 202: Best Cost = 492.5259397830641\n",
            "Iteration 203: Best Cost = 492.5259397830641\n",
            "Iteration 204: Best Cost = 492.5259397830641\n",
            "Iteration 205: Best Cost = 492.5259397830641\n",
            "Iteration 206: Best Cost = 492.5259397830641\n",
            "Iteration 207: Best Cost = 492.5259397830641\n",
            "Iteration 208: Best Cost = 492.5259397830641\n",
            "Iteration 209: Best Cost = 492.5259397830641\n",
            "Iteration 210: Best Cost = 492.5259397830641\n",
            "Iteration 211: Best Cost = 492.5259397830641\n",
            "Iteration 212: Best Cost = 492.5259397830641\n",
            "Iteration 213: Best Cost = 492.5259397830641\n",
            "Iteration 214: Best Cost = 492.5259397830641\n",
            "Iteration 215: Best Cost = 492.5259397830641\n",
            "Iteration 216: Best Cost = 492.5259397830641\n",
            "Iteration 217: Best Cost = 492.5259397830641\n",
            "Iteration 218: Best Cost = 492.5259397830641\n",
            "Iteration 219: Best Cost = 492.5259397830641\n",
            "Iteration 220: Best Cost = 492.5259397830641\n",
            "Iteration 221: Best Cost = 492.5259397830641\n",
            "Iteration 222: Best Cost = 492.5259397830641\n",
            "Iteration 223: Best Cost = 492.5259397830641\n",
            "Iteration 224: Best Cost = 492.5259397830641\n",
            "Iteration 225: Best Cost = 492.5259397830641\n",
            "Iteration 226: Best Cost = 492.5259397830641\n",
            "Iteration 227: Best Cost = 492.5259397830641\n",
            "Iteration 228: Best Cost = 492.5259397830641\n",
            "Iteration 229: Best Cost = 492.5259397830641\n",
            "Iteration 230: Best Cost = 492.5259397830641\n",
            "Iteration 231: Best Cost = 492.5259397830641\n",
            "Iteration 232: Best Cost = 492.5259397830641\n",
            "Iteration 233: Best Cost = 492.5259397830641\n",
            "Iteration 234: Best Cost = 492.5259397830641\n",
            "Iteration 235: Best Cost = 492.5259397830641\n",
            "Iteration 236: Best Cost = 492.5259397830641\n",
            "Iteration 237: Best Cost = 492.5259397830641\n",
            "Iteration 238: Best Cost = 492.5259397830641\n",
            "Iteration 239: Best Cost = 492.5259397830641\n",
            "Iteration 240: Best Cost = 492.5259397830641\n",
            "Iteration 241: Best Cost = 492.5259397830641\n",
            "Iteration 242: Best Cost = 492.5259397830641\n",
            "Iteration 243: Best Cost = 492.5259397830641\n",
            "Iteration 244: Best Cost = 492.5259397830641\n",
            "Iteration 245: Best Cost = 492.5259397830641\n",
            "Iteration 246: Best Cost = 492.5259397830641\n",
            "Iteration 247: Best Cost = 492.5259397830641\n",
            "Iteration 248: Best Cost = 492.5259397830641\n",
            "Iteration 249: Best Cost = 492.5259397830641\n",
            "Iteration 250: Best Cost = 492.5259397830641\n",
            "Iteration 251: Best Cost = 492.5259397830641\n",
            "Iteration 252: Best Cost = 492.5259397830641\n",
            "Iteration 253: Best Cost = 492.5259397830641\n",
            "Iteration 254: Best Cost = 492.5259397830641\n",
            "Iteration 255: Best Cost = 492.5259397830641\n",
            "Iteration 256: Best Cost = 492.5259397830641\n",
            "Iteration 257: Best Cost = 492.5259397830641\n",
            "Iteration 258: Best Cost = 492.5259397830641\n",
            "Iteration 259: Best Cost = 492.5259397830641\n",
            "Iteration 260: Best Cost = 492.5259397830641\n",
            "Iteration 261: Best Cost = 492.5259397830641\n",
            "Iteration 262: Best Cost = 492.5259397830641\n",
            "Iteration 263: Best Cost = 492.5259397830641\n",
            "Iteration 264: Best Cost = 492.5259397830641\n",
            "Iteration 265: Best Cost = 492.5259397830641\n",
            "Iteration 266: Best Cost = 492.5259397830641\n",
            "Iteration 267: Best Cost = 492.5259397830641\n",
            "Iteration 268: Best Cost = 492.5259397830641\n",
            "Iteration 269: Best Cost = 492.5259397830641\n",
            "Iteration 270: Best Cost = 492.5259397830641\n",
            "Iteration 271: Best Cost = 492.5259397830641\n",
            "Iteration 272: Best Cost = 492.5259397830641\n",
            "Iteration 273: Best Cost = 492.5259397830641\n",
            "Iteration 274: Best Cost = 492.5259397830641\n",
            "Iteration 275: Best Cost = 492.5259397830641\n",
            "Iteration 276: Best Cost = 492.5259397830641\n",
            "Iteration 277: Best Cost = 492.5259397830641\n",
            "Iteration 278: Best Cost = 492.5259397830641\n",
            "Iteration 279: Best Cost = 492.5259397830641\n",
            "Iteration 280: Best Cost = 492.5259397830641\n",
            "Iteration 281: Best Cost = 492.5259397830641\n",
            "Iteration 282: Best Cost = 492.5259397830641\n",
            "Iteration 283: Best Cost = 492.5259397830641\n",
            "Iteration 284: Best Cost = 492.5259397830641\n",
            "Iteration 285: Best Cost = 492.5259397830641\n",
            "Iteration 286: Best Cost = 492.5259397830641\n",
            "Iteration 287: Best Cost = 492.5259397830641\n",
            "Iteration 288: Best Cost = 492.5259397830641\n",
            "Iteration 289: Best Cost = 492.5259397830641\n",
            "Iteration 290: Best Cost = 492.5259397830641\n",
            "Iteration 291: Best Cost = 492.5259397830641\n",
            "Iteration 292: Best Cost = 492.5259397830641\n",
            "Iteration 293: Best Cost = 492.5259397830641\n",
            "Iteration 294: Best Cost = 492.5259397830641\n",
            "Iteration 295: Best Cost = 492.5259397830641\n",
            "Iteration 296: Best Cost = 492.5259397830641\n",
            "Iteration 297: Best Cost = 492.5259397830641\n",
            "Iteration 298: Best Cost = 492.5259397830641\n",
            "Iteration 299: Best Cost = 492.5259397830641\n"
          ]
        }
      ],
      "source": [
        "for it in range(maxIt):\n",
        "    for k in range(nAnts):\n",
        "        ant[k].tour = [random.randint(0, nCities-1)]\n",
        "\n",
        "        for _ in range(nCities - 1):\n",
        "            i = ant[k].tour[-1]\n",
        "\n",
        "            p = (tau[i,:]**alpha) * (eta[i,:]**beta)\n",
        "\n",
        "            for psi in ant[k].tour:\n",
        "                p[psi] = 0\n",
        "\n",
        "            p /= sum(p)\n",
        "\n",
        "            j = roulette_wheel(p)\n",
        "\n",
        "            ant[k].tour.append(j)\n",
        "\n",
        "        ant[k].cost = cost_function(ant[k].tour)\n",
        "\n",
        "        if ant[k].cost < best_ant.cost:\n",
        "            best_ant = copy.deepcopy(ant[k])\n",
        "\n",
        "    #update pheromones\n",
        "    #evaporate part\n",
        "    tau *= 1 - rho\n",
        "\n",
        "    # deposit part\n",
        "    for k in range(nAnts):\n",
        "\n",
        "        tour = ant[k].tour\n",
        "        tour.append(tour[0])\n",
        "\n",
        "        for l in range(nCities):\n",
        "            i = tour[l]\n",
        "            j = tour[l+1]\n",
        "\n",
        "            tau[i][j] += Q/ant[k].cost\n",
        "\n",
        "    # record best cost\n",
        "    best_cost.append(best_ant.cost)\n",
        "\n",
        "    #show information\n",
        "    print (\"Iteration {}: Best Cost = {}\".format(it, best_ant.cost))"
      ]
    },
    {
      "cell_type": "code",
      "execution_count": 14,
      "metadata": {
        "colab": {
          "base_uri": "https://localhost:8080/",
          "height": 430
        },
        "id": "M8khG6U-C-u5",
        "outputId": "abddf206-73e9-4347-ce5e-f5353f6a2b1f"
      },
      "outputs": [
        {
          "output_type": "display_data",
          "data": {
            "text/plain": [
              "<Figure size 640x480 with 1 Axes>"
            ],
            "image/png": "[encoded data removed]"
          },
          "metadata": {}
        }
      ],
      "source": [
        "plt.plot(best_cost, linewidth = 3, color = 'r')\n",
        "plt.show()"
      ]
    },
    {
      "cell_type": "code",
      "execution_count": 15,
      "metadata": {
        "colab": {
          "base_uri": "https://localhost:8080/",
          "height": 430
        },
        "id": "K-mR5nyYC-u5",
        "outputId": "3b3c83aa-165f-4250-e41a-05be1c131e2e"
      },
      "outputs": [
        {
          "output_type": "display_data",
          "data": {
            "text/plain": [
              "<Figure size 640x480 with 1 Axes>"
            ],
            "image/png": "[encoded data removed]"
          },
          "metadata": {}
        }
      ],
      "source": [
        "x = [country.x[i] for i in best_ant.tour]\n",
        "x.append(x[0])\n",
        "y = [country.y[i] for i in best_ant.tour]\n",
        "y.append(y[0])\n",
        "for i,j,k in zip(range(20), x, y):\n",
        "    plt.text(j+0.05,k+0.05,str(i), color='black', fontsize = 12)\n",
        "\n",
        "plt.plot(x,y, 'bo')\n",
        "plt.plot(x,y, 'r-')\n",
        "plt.show()"
      ]
    },
    {
      "cell_type": "code",
      "execution_count": null,
      "metadata": {
        "id": "-FeeFdNAC-u6"
      },
      "outputs": [],
      "source": []
    },
    {
      "cell_type": "code",
      "execution_count": null,
      "metadata": {
        "id": "DL4fvydoC-u6"
      },
      "outputs": [],
      "source": []
    },
    {
      "cell_type": "code",
      "execution_count": null,
      "metadata": {
        "id": "-muUR01BC-u6"
      },
      "outputs": [],
      "source": []
    },
    {
      "cell_type": "code",
      "execution_count": null,
      "metadata": {
        "id": "TdFgT3JhC-u6",
        "outputId": "b1ae7c4c-3705-4120-b4a5-bf9da9e11f16"
      },
      "outputs": [
        {
          "data": {
            "text/plain": [
              "[1, 3, 6, 10]"
            ]
          },
          "execution_count": 58,
          "metadata": {},
          "output_type": "execute_result"
        }
      ],
      "source": [
        "[1,2,3,4]\n",
        "# cumulative sum\n",
        "[1,3,6,10]"
      ]
    },
    {
      "cell_type": "code",
      "execution_count": null,
      "metadata": {
        "id": "e75SUTs6C-u6"
      },
      "outputs": [],
      "source": []
    },
    {
      "cell_type": "code",
      "execution_count": null,
      "metadata": {
        "id": "mADO3UUiC-u6"
      },
      "outputs": [],
      "source": []
    },
    {
      "cell_type": "code",
      "execution_count": null,
      "metadata": {
        "id": "TnLTC-jNC-u7"
      },
      "outputs": [],
      "source": []
    },
    {
      "cell_type": "code",
      "execution_count": null,
      "metadata": {
        "id": "A-ZlMBObC-u7"
      },
      "outputs": [],
      "source": []
    },
    {
      "cell_type": "code",
      "execution_count": null,
      "metadata": {
        "id": "_LipU7dnC-u7"
      },
      "outputs": [],
      "source": [
        "a = [2,5,3,1]"
      ]
    },
    {
      "cell_type": "code",
      "execution_count": null,
      "metadata": {
        "id": "3fD0niBeC-u8",
        "outputId": "44dfd346-0fd1-4fc9-cebf-3e66be6edeeb"
      },
      "outputs": [
        {
          "data": {
            "text/plain": [
              "[1.0, 2.5, 1.5, 0.5]"
            ]
          },
          "execution_count": 45,
          "metadata": {},
          "output_type": "execute_result"
        }
      ],
      "source": [
        "b = [i/2 for i in a]\n",
        "b"
      ]
    },
    {
      "cell_type": "code",
      "execution_count": null,
      "metadata": {
        "id": "TIfKgc5qC-u8"
      },
      "outputs": [],
      "source": [
        "a = np.array([2,5,3,1])"
      ]
    },
    {
      "cell_type": "code",
      "execution_count": null,
      "metadata": {
        "id": "5HQEqaNOC-u8",
        "outputId": "0756ce00-5c86-4e6e-888d-c02d48524837"
      },
      "outputs": [
        {
          "data": {
            "text/plain": [
              "array([2, 5, 3, 1])"
            ]
          },
          "execution_count": 9,
          "metadata": {},
          "output_type": "execute_result"
        }
      ],
      "source": [
        "a"
      ]
    },
    {
      "cell_type": "code",
      "execution_count": null,
      "metadata": {
        "id": "u1OgpWmUC-u8",
        "outputId": "8ca6f9a1-c847-4507-a8fd-d8dc34a6d901"
      },
      "outputs": [
        {
          "data": {
            "text/plain": [
              "array([1. , 2.5, 1.5, 0.5])"
            ]
          },
          "execution_count": 10,
          "metadata": {},
          "output_type": "execute_result"
        }
      ],
      "source": [
        "a/2"
      ]
    },
    {
      "cell_type": "code",
      "execution_count": null,
      "metadata": {
        "id": "ZDWOgpuUC-u9",
        "outputId": "41a9131d-3f98-4e19-b740-c36c4ff10944"
      },
      "outputs": [
        {
          "data": {
            "text/plain": [
              "(4,)"
            ]
          },
          "execution_count": 11,
          "metadata": {},
          "output_type": "execute_result"
        }
      ],
      "source": [
        "a.shape"
      ]
    },
    {
      "cell_type": "code",
      "execution_count": null,
      "metadata": {
        "id": "2rojbyffC-u9"
      },
      "outputs": [],
      "source": [
        "a = np.zeros((2,3,4))"
      ]
    },
    {
      "cell_type": "code",
      "execution_count": null,
      "metadata": {
        "id": "JxCaIrbhC-u9",
        "outputId": "c1166667-552d-4e34-9cf6-aaa2084f0512"
      },
      "outputs": [
        {
          "data": {
            "text/plain": [
              "array([[[0., 0., 0., 0.],\n",
              "        [0., 0., 0., 0.],\n",
              "        [0., 0., 0., 0.]],\n",
              "\n",
              "       [[0., 0., 0., 0.],\n",
              "        [0., 0., 0., 0.],\n",
              "        [0., 0., 0., 0.]]])"
            ]
          },
          "execution_count": 20,
          "metadata": {},
          "output_type": "execute_result"
        }
      ],
      "source": [
        "a"
      ]
    },
    {
      "cell_type": "code",
      "execution_count": null,
      "metadata": {
        "id": "wGRr5ThAC-u-",
        "outputId": "2a4bbb42-ec57-4685-9b9a-9dcc1ad6c7f3"
      },
      "outputs": [
        {
          "data": {
            "text/plain": [
              "array([0., 0., 0., 0.])"
            ]
          },
          "execution_count": 21,
          "metadata": {},
          "output_type": "execute_result"
        }
      ],
      "source": [
        "a[1][2]"
      ]
    },
    {
      "cell_type": "code",
      "execution_count": null,
      "metadata": {
        "id": "qmQ6zpG4C-u-"
      },
      "outputs": [],
      "source": [
        "a = [2,4,5,7,1,0]"
      ]
    },
    {
      "cell_type": "code",
      "execution_count": null,
      "metadata": {
        "id": "fqEU4C-eC-u-",
        "outputId": "748b2545-ec11-4188-b0bf-b1fd12e5fd41"
      },
      "outputs": [
        {
          "data": {
            "text/plain": [
              "[(2, 4),\n",
              " (2, 5),\n",
              " (2, 7),\n",
              " (2, 1),\n",
              " (2, 0),\n",
              " (4, 5),\n",
              " (4, 7),\n",
              " (4, 1),\n",
              " (4, 0),\n",
              " (5, 7),\n",
              " (5, 1),\n",
              " (5, 0),\n",
              " (7, 1),\n",
              " (7, 0),\n",
              " (1, 0)]"
            ]
          },
          "execution_count": 24,
          "metadata": {},
          "output_type": "execute_result"
        }
      ],
      "source": [
        "list(itertools.combinations(a,2))"
      ]
    },
    {
      "cell_type": "code",
      "execution_count": null,
      "metadata": {
        "id": "s6cJYDrqC-u-",
        "outputId": "bc3ee327-c101-4476-8417-e7df0198d77a"
      },
      "outputs": [
        {
          "name": "stdout",
          "output_type": "stream",
          "text": [
            "2 4\n",
            "2 5\n",
            "2 7\n",
            "2 1\n",
            "2 0\n",
            "4 5\n",
            "4 7\n",
            "4 1\n",
            "4 0\n",
            "5 7\n",
            "5 1\n",
            "5 0\n",
            "7 1\n",
            "7 0\n",
            "1 0\n"
          ]
        }
      ],
      "source": [
        "for i,j in itertools.combinations(a,2):\n",
        "    print (i,j)"
      ]
    },
    {
      "cell_type": "code",
      "execution_count": null,
      "metadata": {
        "id": "pujd9pxLC-u_"
      },
      "outputs": [],
      "source": []
    }
  ],
  "metadata": {
    "kernelspec": {
      "display_name": "Python 3",
      "language": "python",
      "name": "python3"
    },
    "language_info": {
      "codemirror_mode": {
        "name": "ipython",
        "version": 3
      },
      "file_extension": ".py",
      "mimetype": "text/x-python",
      "name": "python",
      "nbconvert_exporter": "python",
      "pygments_lexer": "ipython3",
      "version": "3.6.5"
    },
    "colab": {
      "provenance": [],
      "include_colab_link": true
    }
  },
  "nbformat": 4,
  "nbformat_minor": 0
}